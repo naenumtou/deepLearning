{
  "nbformat": 4,
  "nbformat_minor": 0,
  "metadata": {
    "colab": {
      "name": "TensorFlowAPI_Object.ipynb",
      "provenance": [],
      "collapsed_sections": [],
      "mount_file_id": "14DHS0h_1Os1hco3T341_vQ06CVfKWa2W",
      "authorship_tag": "ABX9TyMgNdGTIb6OKv7egJ4Gh6Nr",
      "include_colab_link": true
    },
    "kernelspec": {
      "name": "python3",
      "display_name": "Python 3"
    },
    "accelerator": "GPU"
  },
  "cells": [
    {
      "cell_type": "markdown",
      "metadata": {
        "id": "view-in-github",
        "colab_type": "text"
      },
      "source": [
        "<a href=\"https://colab.research.google.com/github/naenumtou/learnTensorFlow/blob/main/customObjectDetection/TensorFlowAPI_Object.ipynb\" target=\"_parent\"><img src=\"https://colab.research.google.com/assets/colab-badge.svg\" alt=\"Open In Colab\"/></a>"
      ]
    },
    {
      "cell_type": "code",
      "metadata": {
        "id": "f26Q0srd5Jnv"
      },
      "source": [
        "#Downgrade NumPy version to overcome the error\n",
        "!pip install numpy==1.16.2\n",
        "\n",
        "#Install TF_slim\n",
        "!pip install --upgrade tf_slim"
      ],
      "execution_count": null,
      "outputs": []
    },
    {
      "cell_type": "code",
      "metadata": {
        "id": "mSJT_9ZyxrPC"
      },
      "source": [
        "#Change Tensorflow to version 1.x\n",
        "%tensorflow_version 1.x\n",
        "import tensorflow as tf\n",
        "import numpy\n",
        "\n",
        "#Vesion checking\n",
        "print(numpy.__version__)\n",
        "print(tf.__version__)"
      ],
      "execution_count": null,
      "outputs": []
    },
    {
      "cell_type": "code",
      "metadata": {
        "id": "gn3i4TVKo1ns"
      },
      "source": [
        "#Checking GPU running if return '/device:GPU:0' means GPU is used\n",
        "tf.test.gpu_device_name()"
      ],
      "execution_count": null,
      "outputs": []
    },
    {
      "cell_type": "code",
      "metadata": {
        "id": "y5Zl6Sm3h-Oy"
      },
      "source": [
        "#Change directory to Google Drive\n",
        "%cd /content/drive/My Drive/Colab Notebooks/object_detection_v0.2"
      ],
      "execution_count": null,
      "outputs": []
    },
    {
      "cell_type": "code",
      "metadata": {
        "id": "ZgLm6Wv_iUXr"
      },
      "source": [
        "#Tersorflow API (Only download once)\n",
        "!git clone https://github.com/tensorflow/models.git"
      ],
      "execution_count": null,
      "outputs": []
    },
    {
      "cell_type": "code",
      "metadata": {
        "id": "ZWTK9so0pyKv"
      },
      "source": [
        "#Install Protobuf and Cython\n",
        "!apt-get install protobuf-compiler python-pil python-lxml python-tk\n",
        "!pip install Cython"
      ],
      "execution_count": null,
      "outputs": []
    },
    {
      "cell_type": "code",
      "metadata": {
        "id": "0U8MIRYpqJM6"
      },
      "source": [
        "## Need to be re-ran when re-opening ##\n",
        "#Change directory for Protocol buffers\n",
        "%cd /content/drive/My Drive/Colab Notebooks/object_detection_v0.2/models/research/\n",
        "!protoc object_detection/protos/*.proto --python_out=.\n",
        "\n",
        "#Set up environment path\n",
        "import os\n",
        "os.environ['PYTHONPATH'] += ':/content/drive/My Drive/Colab Notebooks/object_detection_v0.2/models/research/:/content/drive/My Drive/Colab Notebooks/object_detection_v0.2/models/research/slim'\n",
        "\n",
        "#Compilation\n",
        "!python setup.py build\n",
        "!python setup.py install"
      ],
      "execution_count": null,
      "outputs": []
    },
    {
      "cell_type": "code",
      "metadata": {
        "id": "HbUp8OywrksS"
      },
      "source": [
        "#Change directory for training\n",
        "%cd /content/drive/My Drive/Colab Notebooks/object_detection_v0.2/models/research/object_detection"
      ],
      "execution_count": null,
      "outputs": []
    },
    {
      "cell_type": "code",
      "metadata": {
        "id": "yAnxaFPCJaa-"
      },
      "source": [
        "#Pre-train model (Only download once)\n",
        "!wget http://download.tensorflow.org/models/object_detection/ssd_mobilenet_v2_coco_2018_03_29.tar.gz\n",
        "!tar -xzvf 'ssd_mobilenet_v2_coco_2018_03_29.tar.gz'"
      ],
      "execution_count": null,
      "outputs": []
    },
    {
      "cell_type": "code",
      "metadata": {
        "id": "-nSI5iwSIWfS"
      },
      "source": [
        "#Training model\n",
        "!python model_main.py --alsologtostderr --model_dir='/content/drive/My Drive/Colab Notebooks/object_detection_v0.2/models/research/object_detection/training' --pipeline_config_path='/content/drive/My Drive/Colab Notebooks/object_detection_v0.2/models/research/object_detection/training/ssd_mobilenet_v2_coco.config'"
      ],
      "execution_count": null,
      "outputs": []
    },
    {
      "cell_type": "code",
      "metadata": {
        "id": "dHe7SsWHuxy8"
      },
      "source": [
        "#Export inference graph\n",
        "!python export_inference_graph.py \\--input_type image_tensor \\--pipeline_config_path '/content/drive/My Drive/Colab Notebooks/object_detection_v0.2/models/research/object_detection/training/ssd_mobilenet_v2_coco.config' \\--trained_checkpoint_prefix '/content/drive/My Drive/Colab Notebooks/object_detection_v0.2/models/research/object_detection/training/model.ckpt-12756' \\--output_directory '/content/drive/My Drive/Colab Notebooks/object_detection_v0.2/models/research/object_detection/leica'"
      ],
      "execution_count": null,
      "outputs": []
    }
  ]
}