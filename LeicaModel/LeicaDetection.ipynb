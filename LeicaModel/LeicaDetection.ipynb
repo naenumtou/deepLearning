{
  "nbformat": 4,
  "nbformat_minor": 0,
  "metadata": {
    "colab": {
      "name": "LeicaDetection.ipynb",
      "provenance": [],
      "collapsed_sections": [],
      "mount_file_id": "1mq9NCZf0WZN5UtrAFfGr57L-zuYbSOWx",
      "authorship_tag": "ABX9TyO1s7IVnelcuo40orwr0VB1",
      "include_colab_link": true
    },
    "kernelspec": {
      "name": "python3",
      "display_name": "Python 3"
    },
    "accelerator": "GPU"
  },
  "cells": [
    {
      "cell_type": "markdown",
      "metadata": {
        "id": "view-in-github",
        "colab_type": "text"
      },
      "source": [
        "<a href=\"https://colab.research.google.com/github/naenumtou/learnTensorFlow/blob/main/LeicaModel/LeicaDetection.ipynb\" target=\"_parent\"><img src=\"https://colab.research.google.com/assets/colab-badge.svg\" alt=\"Open In Colab\"/></a>"
      ]
    },
    {
      "cell_type": "code",
      "metadata": {
        "id": "X0eYVf7LZHje",
        "outputId": "58743adf-c229-41c4-bfef-1bbdf95b4474",
        "colab": {
          "base_uri": "https://localhost:8080/"
        }
      },
      "source": [
        "# Change working directory\n",
        "%cd /content/drive/My Drive/Colab Notebooks/LeicaDetection"
      ],
      "execution_count": null,
      "outputs": [
        {
          "output_type": "stream",
          "name": "stdout",
          "text": [
            "/content/drive/My Drive/Colab Notebooks/LeicaDetection\n"
          ]
        }
      ]
    },
    {
      "cell_type": "code",
      "metadata": {
        "id": "isWdbPheYYBi"
      },
      "source": [
        "# Install libraries\n",
        "!pip install tensorflow-gpu==1.15.0 --force-reinstall #TensorFlow 1.15\n",
        "!pip install keras #Keras for Tensorflow 1.15\n",
        "!pip3 install imageai --upgrade #Image AI"
      ],
      "execution_count": null,
      "outputs": []
    },
    {
      "cell_type": "code",
      "metadata": {
        "id": "A3oDyZCmazxS",
        "outputId": "2c52a40f-1854-4923-9f7b-cf7ce21e25e3",
        "colab": {
          "base_uri": "https://localhost:8080/",
          "height": 35
        }
      },
      "source": [
        "# Import libraries\n",
        "import tensorflow as tf\n",
        "\n",
        "from imageai.Detection.Custom import DetectionModelTrainer\n",
        "\n",
        "# Checking GPU\n",
        "tf.test.gpu_device_name()"
      ],
      "execution_count": null,
      "outputs": [
        {
          "output_type": "execute_result",
          "data": {
            "text/plain": [
              "'/device:GPU:0'"
            ]
          },
          "metadata": {
            "tags": []
          },
          "execution_count": 1
        }
      ]
    },
    {
      "cell_type": "code",
      "metadata": {
        "id": "nXdCEr35TNnr"
      },
      "source": [
        "# Download YOLO V3 Pre-trained model \n",
        "!wget https://github.com/OlafenwaMoses/ImageAI/releases/download/essential-v4/pretrained-yolov3.h5"
      ],
      "execution_count": null,
      "outputs": []
    },
    {
      "cell_type": "code",
      "metadata": {
        "id": "bmKtQAdaZEKn",
        "outputId": "b423d799-b8e5-4c37-d2bc-cfd72607150a",
        "colab": {
          "base_uri": "https://localhost:8080/",
          "height": 1000
        }
      },
      "source": [
        "# Custom object detection training\n",
        "trainer = DetectionModelTrainer()\n",
        "trainer.setModelTypeAsYOLOv3()\n",
        "trainer.setDataDirectory(data_directory = 'Leica')\n",
        "trainer.setTrainConfig(object_names_array = ['leica'], \n",
        "                       batch_size = 4, \n",
        "                       num_experiments = 100, \n",
        "                       train_from_pretrained_model = 'pretrained-yolov3.h5')\n",
        "trainer.trainModel()"
      ],
      "execution_count": null,
      "outputs": [
        {
          "output_type": "stream",
          "text": [
            "Using TensorFlow backend.\n"
          ],
          "name": "stderr"
        },
        {
          "output_type": "stream",
          "text": [
            "Generating anchor boxes for training images and annotation...\n",
            "Average IOU for 9 anchors: 0.80\n",
            "Anchor Boxes generated.\n",
            "Detection configuration saved in  Leica/json/detection_config.json\n",
            "Training on: \t['leica']\n",
            "Training with Batch Size:  4\n",
            "Number of Experiments:  100\n",
            "WARNING:tensorflow:From /usr/local/lib/python3.6/dist-packages/tensorflow_core/python/ops/resource_variable_ops.py:1630: calling BaseResourceVariable.__init__ (from tensorflow.python.ops.resource_variable_ops) with constraint is deprecated and will be removed in a future version.\n",
            "Instructions for updating:\n",
            "If using Keras pass *_constraint arguments to layers.\n",
            "WARNING:tensorflow:From /usr/local/lib/python3.6/dist-packages/imageai/Detection/Custom/yolo.py:24: to_float (from tensorflow.python.ops.math_ops) is deprecated and will be removed in a future version.\n",
            "Instructions for updating:\n",
            "Use `tf.cast` instead.\n",
            "WARNING:tensorflow:From /usr/local/lib/python3.6/dist-packages/imageai/Detection/Custom/yolo.py:149: The name tf.assign_add is deprecated. Please use tf.compat.v1.assign_add instead.\n",
            "\n",
            "Training with transfer learning from pretrained Model\n"
          ],
          "name": "stdout"
        },
        {
          "output_type": "stream",
          "text": [
            "/usr/local/lib/python3.6/dist-packages/keras/callbacks/callbacks.py:998: UserWarning: `epsilon` argument is deprecated and will be removed, use `min_delta` instead.\n",
            "  warnings.warn('`epsilon` argument is deprecated and '\n"
          ],
          "name": "stderr"
        },
        {
          "output_type": "stream",
          "text": [
            "WARNING:tensorflow:From /usr/local/lib/python3.6/dist-packages/keras/backend/tensorflow_backend.py:422: The name tf.global_variables is deprecated. Please use tf.compat.v1.global_variables instead.\n",
            "\n",
            "WARNING:tensorflow:From /usr/local/lib/python3.6/dist-packages/keras/backend/tensorflow_backend.py:431: The name tf.is_variable_initialized is deprecated. Please use tf.compat.v1.is_variable_initialized instead.\n",
            "\n",
            "WARNING:tensorflow:From /usr/local/lib/python3.6/dist-packages/keras/backend/tensorflow_backend.py:438: The name tf.variables_initializer is deprecated. Please use tf.compat.v1.variables_initializer instead.\n",
            "\n",
            "WARNING:tensorflow:From /usr/local/lib/python3.6/dist-packages/keras/callbacks/tensorboard_v1.py:200: The name tf.summary.merge_all is deprecated. Please use tf.compat.v1.summary.merge_all instead.\n",
            "\n",
            "WARNING:tensorflow:From /usr/local/lib/python3.6/dist-packages/keras/callbacks/tensorboard_v1.py:203: The name tf.summary.FileWriter is deprecated. Please use tf.compat.v1.summary.FileWriter instead.\n",
            "\n",
            "Epoch 1/100\n",
            "704/704 [==============================] - 918s 1s/step - loss: 23.0205 - yolo_layer_1_loss: 4.4074 - yolo_layer_2_loss: 7.9135 - yolo_layer_3_loss: 10.6996 - val_loss: 11.2385 - val_yolo_layer_1_loss: 0.6766 - val_yolo_layer_2_loss: 3.8895 - val_yolo_layer_3_loss: 5.6462\n",
            "WARNING:tensorflow:From /usr/local/lib/python3.6/dist-packages/keras/callbacks/tensorboard_v1.py:343: The name tf.Summary is deprecated. Please use tf.compat.v1.Summary instead.\n",
            "\n",
            "Epoch 2/100\n",
            "704/704 [==============================] - 855s 1s/step - loss: 11.6590 - yolo_layer_1_loss: 1.7669 - yolo_layer_2_loss: 4.0600 - yolo_layer_3_loss: 5.8321 - val_loss: 8.5249 - val_yolo_layer_1_loss: 0.6416 - val_yolo_layer_2_loss: 2.2801 - val_yolo_layer_3_loss: 6.0644\n",
            "Epoch 3/100\n",
            "704/704 [==============================] - 824s 1s/step - loss: 9.7891 - yolo_layer_1_loss: 1.1554 - yolo_layer_2_loss: 3.1860 - yolo_layer_3_loss: 5.4477 - val_loss: 8.2131 - val_yolo_layer_1_loss: 0.6841 - val_yolo_layer_2_loss: 2.2288 - val_yolo_layer_3_loss: 5.2535\n",
            "Epoch 4/100\n",
            "704/704 [==============================] - 850s 1s/step - loss: 9.4501 - yolo_layer_1_loss: 1.3826 - yolo_layer_2_loss: 3.1537 - yolo_layer_3_loss: 4.9138 - val_loss: 9.1557 - val_yolo_layer_1_loss: 0.8725 - val_yolo_layer_2_loss: 2.3780 - val_yolo_layer_3_loss: 6.4767\n",
            "Epoch 5/100\n",
            "704/704 [==============================] - 858s 1s/step - loss: 8.7041 - yolo_layer_1_loss: 1.3068 - yolo_layer_2_loss: 2.8965 - yolo_layer_3_loss: 4.5009 - val_loss: 7.8345 - val_yolo_layer_1_loss: 0.5181 - val_yolo_layer_2_loss: 1.9285 - val_yolo_layer_3_loss: 5.4715\n",
            "Epoch 6/100\n",
            "704/704 [==============================] - 862s 1s/step - loss: 8.3114 - yolo_layer_1_loss: 1.2487 - yolo_layer_2_loss: 2.7474 - yolo_layer_3_loss: 4.3153 - val_loss: 13.4052 - val_yolo_layer_1_loss: 0.7440 - val_yolo_layer_2_loss: 2.2334 - val_yolo_layer_3_loss: 5.9319\n",
            "Epoch 7/100\n",
            "704/704 [==============================] - 870s 1s/step - loss: 7.8872 - yolo_layer_1_loss: 1.2621 - yolo_layer_2_loss: 2.6238 - yolo_layer_3_loss: 4.0012 - val_loss: 14.1329 - val_yolo_layer_1_loss: 0.6172 - val_yolo_layer_2_loss: 2.0164 - val_yolo_layer_3_loss: 6.1971\n",
            "Epoch 8/100\n",
            "704/704 [==============================] - 850s 1s/step - loss: 7.5637 - yolo_layer_1_loss: 1.0070 - yolo_layer_2_loss: 2.4697 - yolo_layer_3_loss: 4.0869 - val_loss: 7.6737 - val_yolo_layer_1_loss: 0.5717 - val_yolo_layer_2_loss: 1.9478 - val_yolo_layer_3_loss: 6.3358\n",
            "Epoch 9/100\n",
            "704/704 [==============================] - 848s 1s/step - loss: 7.2448 - yolo_layer_1_loss: 0.9220 - yolo_layer_2_loss: 2.3251 - yolo_layer_3_loss: 3.9977 - val_loss: 14.1682 - val_yolo_layer_1_loss: 0.6268 - val_yolo_layer_2_loss: 2.5222 - val_yolo_layer_3_loss: 5.8047\n",
            "Epoch 10/100\n",
            "704/704 [==============================] - 862s 1s/step - loss: 6.9840 - yolo_layer_1_loss: 1.0068 - yolo_layer_2_loss: 2.2796 - yolo_layer_3_loss: 3.6975 - val_loss: 11.9341 - val_yolo_layer_1_loss: 0.3199 - val_yolo_layer_2_loss: 2.1468 - val_yolo_layer_3_loss: 6.4346\n",
            "Epoch 11/100\n",
            "704/704 [==============================] - 866s 1s/step - loss: 6.8760 - yolo_layer_1_loss: 0.9560 - yolo_layer_2_loss: 2.2636 - yolo_layer_3_loss: 3.6564 - val_loss: 11.4703 - val_yolo_layer_1_loss: 0.6964 - val_yolo_layer_2_loss: 2.2862 - val_yolo_layer_3_loss: 5.9544\n",
            "Epoch 12/100\n",
            "704/704 [==============================] - 858s 1s/step - loss: 6.3804 - yolo_layer_1_loss: 0.8500 - yolo_layer_2_loss: 2.0115 - yolo_layer_3_loss: 3.5189 - val_loss: 14.2688 - val_yolo_layer_1_loss: 1.6339 - val_yolo_layer_2_loss: 2.6929 - val_yolo_layer_3_loss: 6.4565\n",
            "Epoch 13/100\n",
            "704/704 [==============================] - 834s 1s/step - loss: 6.4118 - yolo_layer_1_loss: 0.7771 - yolo_layer_2_loss: 1.9943 - yolo_layer_3_loss: 3.6404 - val_loss: 8.5786 - val_yolo_layer_1_loss: 0.8166 - val_yolo_layer_2_loss: 2.2392 - val_yolo_layer_3_loss: 6.6777\n",
            "Epoch 14/100\n",
            "704/704 [==============================] - 869s 1s/step - loss: 6.4537 - yolo_layer_1_loss: 0.9665 - yolo_layer_2_loss: 2.1215 - yolo_layer_3_loss: 3.3658 - val_loss: 10.3480 - val_yolo_layer_1_loss: 0.4579 - val_yolo_layer_2_loss: 2.1469 - val_yolo_layer_3_loss: 6.1748\n",
            "Epoch 15/100\n",
            "704/704 [==============================] - 857s 1s/step - loss: 5.1563 - yolo_layer_1_loss: 0.6613 - yolo_layer_2_loss: 1.5963 - yolo_layer_3_loss: 2.8987 - val_loss: 11.3076 - val_yolo_layer_1_loss: 0.4057 - val_yolo_layer_2_loss: 2.0516 - val_yolo_layer_3_loss: 6.2182\n",
            "Epoch 16/100\n",
            "704/704 [==============================] - 837s 1s/step - loss: 4.8793 - yolo_layer_1_loss: 0.4990 - yolo_layer_2_loss: 1.4769 - yolo_layer_3_loss: 2.9034 - val_loss: 8.6845 - val_yolo_layer_1_loss: 0.7238 - val_yolo_layer_2_loss: 2.0235 - val_yolo_layer_3_loss: 6.4663\n",
            "Epoch 17/100\n",
            "704/704 [==============================] - 851s 1s/step - loss: 4.6400 - yolo_layer_1_loss: 0.4617 - yolo_layer_2_loss: 1.3791 - yolo_layer_3_loss: 2.7992 - val_loss: 12.6145 - val_yolo_layer_1_loss: 0.6179 - val_yolo_layer_2_loss: 1.9911 - val_yolo_layer_3_loss: 5.9690\n",
            "Epoch 18/100\n",
            "704/704 [==============================] - 872s 1s/step - loss: 4.5969 - yolo_layer_1_loss: 0.5021 - yolo_layer_2_loss: 1.3975 - yolo_layer_3_loss: 2.6974 - val_loss: 10.2515 - val_yolo_layer_1_loss: 0.8657 - val_yolo_layer_2_loss: 2.3224 - val_yolo_layer_3_loss: 6.4310\n",
            "Epoch 19/100\n",
            "704/704 [==============================] - 852s 1s/step - loss: 4.4373 - yolo_layer_1_loss: 0.4907 - yolo_layer_2_loss: 1.3180 - yolo_layer_3_loss: 2.6286 - val_loss: 15.2384 - val_yolo_layer_1_loss: 0.6152 - val_yolo_layer_2_loss: 2.4522 - val_yolo_layer_3_loss: 6.2243\n",
            "Epoch 20/100\n",
            "704/704 [==============================] - 846s 1s/step - loss: 4.4205 - yolo_layer_1_loss: 0.4514 - yolo_layer_2_loss: 1.3637 - yolo_layer_3_loss: 2.6054 - val_loss: 7.9378 - val_yolo_layer_1_loss: 0.8326 - val_yolo_layer_2_loss: 2.3033 - val_yolo_layer_3_loss: 6.5186\n",
            "Epoch 21/100\n",
            "704/704 [==============================] - 824s 1s/step - loss: 4.3041 - yolo_layer_1_loss: 0.3317 - yolo_layer_2_loss: 1.3095 - yolo_layer_3_loss: 2.6628 - val_loss: 8.7853 - val_yolo_layer_1_loss: 0.6103 - val_yolo_layer_2_loss: 2.3912 - val_yolo_layer_3_loss: 6.4355\n",
            "Epoch 22/100\n",
            "704/704 [==============================] - 847s 1s/step - loss: 4.2761 - yolo_layer_1_loss: 0.4341 - yolo_layer_2_loss: 1.1692 - yolo_layer_3_loss: 2.6728 - val_loss: 7.6117 - val_yolo_layer_1_loss: 0.6142 - val_yolo_layer_2_loss: 2.3922 - val_yolo_layer_3_loss: 6.1535\n",
            "Epoch 23/100\n",
            "704/704 [==============================] - 869s 1s/step - loss: 4.2672 - yolo_layer_1_loss: 0.4628 - yolo_layer_2_loss: 1.2773 - yolo_layer_3_loss: 2.5271 - val_loss: 9.6354 - val_yolo_layer_1_loss: 0.7936 - val_yolo_layer_2_loss: 2.1605 - val_yolo_layer_3_loss: 5.9834\n",
            "Epoch 24/100\n",
            "704/704 [==============================] - 870s 1s/step - loss: 4.2757 - yolo_layer_1_loss: 0.4662 - yolo_layer_2_loss: 1.3146 - yolo_layer_3_loss: 2.4949 - val_loss: 12.6921 - val_yolo_layer_1_loss: 0.8111 - val_yolo_layer_2_loss: 2.4117 - val_yolo_layer_3_loss: 6.3518\n",
            "Epoch 25/100\n",
            "704/704 [==============================] - 851s 1s/step - loss: 4.0808 - yolo_layer_1_loss: 0.3508 - yolo_layer_2_loss: 1.1733 - yolo_layer_3_loss: 2.5567 - val_loss: 11.0866 - val_yolo_layer_1_loss: 0.7272 - val_yolo_layer_2_loss: 2.0849 - val_yolo_layer_3_loss: 6.3526\n",
            "Epoch 26/100\n",
            "704/704 [==============================] - 842s 1s/step - loss: 4.1590 - yolo_layer_1_loss: 0.3478 - yolo_layer_2_loss: 1.1982 - yolo_layer_3_loss: 2.6130 - val_loss: 10.6037 - val_yolo_layer_1_loss: 0.5728 - val_yolo_layer_2_loss: 2.5267 - val_yolo_layer_3_loss: 6.2242\n",
            "Epoch 27/100\n",
            "704/704 [==============================] - 856s 1s/step - loss: 4.1156 - yolo_layer_1_loss: 0.3704 - yolo_layer_2_loss: 1.2325 - yolo_layer_3_loss: 2.5128 - val_loss: 9.4714 - val_yolo_layer_1_loss: 0.9527 - val_yolo_layer_2_loss: 2.6908 - val_yolo_layer_3_loss: 5.7767\n",
            "Epoch 28/100\n",
            "704/704 [==============================] - 866s 1s/step - loss: 4.0709 - yolo_layer_1_loss: 0.3969 - yolo_layer_2_loss: 1.2867 - yolo_layer_3_loss: 2.3873 - val_loss: 9.3999 - val_yolo_layer_1_loss: 0.9340 - val_yolo_layer_2_loss: 2.2981 - val_yolo_layer_3_loss: 6.3355\n",
            "Epoch 29/100\n",
            "704/704 [==============================] - 852s 1s/step - loss: 4.1413 - yolo_layer_1_loss: 0.3812 - yolo_layer_2_loss: 1.2147 - yolo_layer_3_loss: 2.5453 - val_loss: 13.8806 - val_yolo_layer_1_loss: 1.2284 - val_yolo_layer_2_loss: 2.4007 - val_yolo_layer_3_loss: 6.0579\n",
            "Epoch 30/100\n",
            "704/704 [==============================] - 841s 1s/step - loss: 3.9928 - yolo_layer_1_loss: 0.3984 - yolo_layer_2_loss: 1.1089 - yolo_layer_3_loss: 2.4855 - val_loss: 11.3454 - val_yolo_layer_1_loss: 0.7443 - val_yolo_layer_2_loss: 2.0612 - val_yolo_layer_3_loss: 6.4848\n",
            "Epoch 31/100\n",
            "704/704 [==============================] - 857s 1s/step - loss: 4.0973 - yolo_layer_1_loss: 0.3547 - yolo_layer_2_loss: 1.1908 - yolo_layer_3_loss: 2.5517 - val_loss: 14.7206 - val_yolo_layer_1_loss: 1.1886 - val_yolo_layer_2_loss: 2.5728 - val_yolo_layer_3_loss: 6.1787\n",
            "Epoch 32/100\n",
            "704/704 [==============================] - 852s 1s/step - loss: 4.0643 - yolo_layer_1_loss: 0.3598 - yolo_layer_2_loss: 1.2182 - yolo_layer_3_loss: 2.4863 - val_loss: 13.9982 - val_yolo_layer_1_loss: 1.0297 - val_yolo_layer_2_loss: 2.7911 - val_yolo_layer_3_loss: 6.1877\n",
            "Epoch 33/100\n",
            "704/704 [==============================] - 875s 1s/step - loss: 4.1316 - yolo_layer_1_loss: 0.4327 - yolo_layer_2_loss: 1.3048 - yolo_layer_3_loss: 2.3941 - val_loss: 10.1396 - val_yolo_layer_1_loss: 0.5201 - val_yolo_layer_2_loss: 2.2960 - val_yolo_layer_3_loss: 6.2531\n",
            "Epoch 34/100\n",
            "704/704 [==============================] - 851s 1s/step - loss: 4.1189 - yolo_layer_1_loss: 0.3573 - yolo_layer_2_loss: 1.2117 - yolo_layer_3_loss: 2.5499 - val_loss: 14.8529 - val_yolo_layer_1_loss: 0.7697 - val_yolo_layer_2_loss: 2.4954 - val_yolo_layer_3_loss: 6.3233\n",
            "Epoch 35/100\n",
            "704/704 [==============================] - 863s 1s/step - loss: 4.0920 - yolo_layer_1_loss: 0.4154 - yolo_layer_2_loss: 1.2217 - yolo_layer_3_loss: 2.4549 - val_loss: 6.3487 - val_yolo_layer_1_loss: 0.6327 - val_yolo_layer_2_loss: 1.9783 - val_yolo_layer_3_loss: 6.3587\n",
            "Epoch 36/100\n",
            "704/704 [==============================] - 849s 1s/step - loss: 4.0956 - yolo_layer_1_loss: 0.3505 - yolo_layer_2_loss: 1.1637 - yolo_layer_3_loss: 2.5813 - val_loss: 7.7840 - val_yolo_layer_1_loss: 0.9035 - val_yolo_layer_2_loss: 2.2790 - val_yolo_layer_3_loss: 6.2731\n",
            "Epoch 37/100\n",
            "704/704 [==============================] - 866s 1s/step - loss: 4.0461 - yolo_layer_1_loss: 0.3387 - yolo_layer_2_loss: 1.2272 - yolo_layer_3_loss: 2.4802 - val_loss: 7.7775 - val_yolo_layer_1_loss: 0.9092 - val_yolo_layer_2_loss: 2.3073 - val_yolo_layer_3_loss: 6.4048\n",
            "Epoch 38/100\n",
            "704/704 [==============================] - 825s 1s/step - loss: 4.0589 - yolo_layer_1_loss: 0.2571 - yolo_layer_2_loss: 1.1675 - yolo_layer_3_loss: 2.6342 - val_loss: 7.4760 - val_yolo_layer_1_loss: 0.7223 - val_yolo_layer_2_loss: 2.2757 - val_yolo_layer_3_loss: 6.5513\n",
            "Epoch 39/100\n",
            "704/704 [==============================] - 858s 1s/step - loss: 4.0076 - yolo_layer_1_loss: 0.3964 - yolo_layer_2_loss: 1.2196 - yolo_layer_3_loss: 2.3916 - val_loss: 16.9755 - val_yolo_layer_1_loss: 1.1657 - val_yolo_layer_2_loss: 2.5275 - val_yolo_layer_3_loss: 6.0541\n",
            "Epoch 40/100\n",
            "704/704 [==============================] - 881s 1s/step - loss: 4.2103 - yolo_layer_1_loss: 0.4864 - yolo_layer_2_loss: 1.3106 - yolo_layer_3_loss: 2.4133 - val_loss: 2.9060 - val_yolo_layer_1_loss: 0.9399 - val_yolo_layer_2_loss: 2.7074 - val_yolo_layer_3_loss: 5.9529\n",
            "Epoch 41/100\n",
            "704/704 [==============================] - 845s 1s/step - loss: 3.9630 - yolo_layer_1_loss: 0.3260 - yolo_layer_2_loss: 1.1444 - yolo_layer_3_loss: 2.4925 - val_loss: 7.5558 - val_yolo_layer_1_loss: 0.8100 - val_yolo_layer_2_loss: 2.6212 - val_yolo_layer_3_loss: 6.2156\n",
            "Epoch 42/100\n",
            "196/704 [=======>......................] - ETA: 9:24 - loss: 3.9372 - yolo_layer_1_loss: 0.2721 - yolo_layer_2_loss: 1.0675 - yolo_layer_3_loss: 2.5976"
          ],
          "name": "stdout"
        }
      ]
    }
  ]
}