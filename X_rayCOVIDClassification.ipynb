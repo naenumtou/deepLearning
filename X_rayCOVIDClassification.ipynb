{
  "nbformat": 4,
  "nbformat_minor": 0,
  "metadata": {
    "colab": {
      "name": "X-rayCOVIDClassification.ipynb",
      "provenance": [],
      "collapsed_sections": [],
      "mount_file_id": "1H0jLZENzB9ocU0fFuLRhS3QRvdolOTR2",
      "authorship_tag": "ABX9TyOF6urIE4CeM345phh9qhx0",
      "include_colab_link": true
    },
    "kernelspec": {
      "name": "python3",
      "display_name": "Python 3"
    },
    "accelerator": "GPU"
  },
  "cells": [
    {
      "cell_type": "markdown",
      "metadata": {
        "id": "view-in-github",
        "colab_type": "text"
      },
      "source": [
        "<a href=\"https://colab.research.google.com/github/naenumtou/deepLearning/blob/main/X_rayCOVIDClassification.ipynb\" target=\"_parent\"><img src=\"https://colab.research.google.com/assets/colab-badge.svg\" alt=\"Open In Colab\"/></a>"
      ]
    },
    {
      "cell_type": "code",
      "metadata": {
        "id": "G4UPA-ecVnQ9",
        "colab": {
          "base_uri": "https://localhost:8080/",
          "height": 35
        },
        "outputId": "5356b78f-ddf2-4ff6-8322-97d4b41b2155"
      },
      "source": [
        "#Change directory to Google drive\n",
        "%cd /content/drive/My Drive/Colab Notebooks/cnn_model"
      ],
      "execution_count": null,
      "outputs": [
        {
          "output_type": "stream",
          "text": [
            "/content/drive/My Drive/Colab Notebooks/cnn_model\n"
          ],
          "name": "stdout"
        }
      ]
    },
    {
      "cell_type": "code",
      "metadata": {
        "id": "lSTQlDLOWxBj",
        "colab": {
          "base_uri": "https://localhost:8080/",
          "height": 35
        },
        "outputId": "39404743-3e3a-4fde-b5a7-78d44bcc9b57"
      },
      "source": [
        "#Import library for model training \n",
        "import pickle\n",
        "import tensorflow as tf\n",
        "from tensorflow.keras.models import Sequential\n",
        "from tensorflow.keras.layers import Dense, Dropout, Activation, Flatten, Conv2D, MaxPooling2D\n",
        "from tensorflow.keras.callbacks import EarlyStopping\n",
        "print(tf.__version__)"
      ],
      "execution_count": null,
      "outputs": [
        {
          "output_type": "stream",
          "text": [
            "2.2.0\n"
          ],
          "name": "stdout"
        }
      ]
    },
    {
      "cell_type": "code",
      "metadata": {
        "id": "AhDBlNGKY5qI",
        "colab": {
          "base_uri": "https://localhost:8080/",
          "height": 35
        },
        "outputId": "b7415fb9-1844-4701-af14-410e5e6671cd"
      },
      "source": [
        "#Checking GPU running if return '/device:GPU:0' means GPU is used\n",
        "tf.test.gpu_device_name()"
      ],
      "execution_count": null,
      "outputs": [
        {
          "output_type": "execute_result",
          "data": {
            "text/plain": [
              "'/device:GPU:0'"
            ]
          },
          "metadata": {
            "tags": []
          },
          "execution_count": 3
        }
      ]
    },
    {
      "cell_type": "code",
      "metadata": {
        "id": "6D_DdUwyP3c9"
      },
      "source": [
        "#Loading features and target\n",
        "X = pickle.load(open('features.pk', 'rb'))\n",
        "Y = pickle.load(open('targets.pk', 'rb'))\n",
        "\n",
        "#Normalization for (0,1) with max value\n",
        "X = X/X.max()"
      ],
      "execution_count": null,
      "outputs": []
    },
    {
      "cell_type": "code",
      "metadata": {
        "id": "BF_KnolsQbKC",
        "colab": {
          "base_uri": "https://localhost:8080/",
          "height": 568
        },
        "outputId": "0b32bbc4-b9f0-4aef-e37d-a4e1e7081f3a"
      },
      "source": [
        "#Design the Convolutional Neural Networks (CNN)\n",
        "model = Sequential()\n",
        "\n",
        "#Layer 1: Convolutional layer 1\n",
        "model.add(Conv2D(256, (3, 3), input_shape = X.shape[1:]))\n",
        "model.add(Activation('relu'))\n",
        "\n",
        "#Layer 2: Pooling layer\n",
        "model.add(MaxPooling2D(pool_size = (2, 2)))\n",
        "\n",
        "#Layer 3: Convolutional layer 2\n",
        "model.add(Conv2D(256, (3, 3))) #Don't need input shape\n",
        "model.add(Activation('relu'))\n",
        "\n",
        "#Layer 4: Pooling layer\n",
        "model.add(MaxPooling2D(pool_size = (2, 2)))\n",
        "\n",
        "#Layer 5: Flatten layer\n",
        "model.add(Flatten()) #Convert 3D feature map to 1D feature vectors\n",
        "\n",
        "#Layer 6: Dense layer (Hidden layer)\n",
        "model.add(Dense(64))\n",
        "\n",
        "#Layer 7: Adding dropout layer to overcome over-fitting\n",
        "model.add(Dropout(0.5))\n",
        "\n",
        "#Layer 8: Output layer\n",
        "model.add(Dense(1)) #Only one answer either cat or dog\n",
        "model.add(Activation('sigmoid')) #Using 'sigmoid' since (0,1) answer\n",
        "\n",
        "#Complie the model\n",
        "model.compile(loss = 'binary_crossentropy', optimizer = 'adam', metrics = ['accuracy'])\n",
        "\n",
        "#Model overview\n",
        "model.summary()"
      ],
      "execution_count": null,
      "outputs": [
        {
          "output_type": "stream",
          "text": [
            "Model: \"sequential\"\n",
            "_________________________________________________________________\n",
            "Layer (type)                 Output Shape              Param #   \n",
            "=================================================================\n",
            "conv2d (Conv2D)              (None, 398, 398, 256)     2560      \n",
            "_________________________________________________________________\n",
            "activation (Activation)      (None, 398, 398, 256)     0         \n",
            "_________________________________________________________________\n",
            "max_pooling2d (MaxPooling2D) (None, 199, 199, 256)     0         \n",
            "_________________________________________________________________\n",
            "conv2d_1 (Conv2D)            (None, 197, 197, 256)     590080    \n",
            "_________________________________________________________________\n",
            "activation_1 (Activation)    (None, 197, 197, 256)     0         \n",
            "_________________________________________________________________\n",
            "max_pooling2d_1 (MaxPooling2 (None, 98, 98, 256)       0         \n",
            "_________________________________________________________________\n",
            "flatten (Flatten)            (None, 2458624)           0         \n",
            "_________________________________________________________________\n",
            "dense (Dense)                (None, 64)                157352000 \n",
            "_________________________________________________________________\n",
            "dropout (Dropout)            (None, 64)                0         \n",
            "_________________________________________________________________\n",
            "dense_1 (Dense)              (None, 1)                 65        \n",
            "_________________________________________________________________\n",
            "activation_2 (Activation)    (None, 1)                 0         \n",
            "=================================================================\n",
            "Total params: 157,944,705\n",
            "Trainable params: 157,944,705\n",
            "Non-trainable params: 0\n",
            "_________________________________________________________________\n"
          ],
          "name": "stdout"
        }
      ]
    },
    {
      "cell_type": "code",
      "metadata": {
        "id": "5NpipbMffog7"
      },
      "source": [
        "#Adding early stopping process\n",
        "early_stop = EarlyStopping(monitor = 'val_loss', patience = 2)"
      ],
      "execution_count": null,
      "outputs": []
    },
    {
      "cell_type": "code",
      "metadata": {
        "id": "SUJ1skg7Q9oh",
        "colab": {
          "base_uri": "https://localhost:8080/",
          "height": 770
        },
        "outputId": "6503ccb2-19f0-4a2b-bf85-423da721719b"
      },
      "source": [
        "#Fitting the CNN model\n",
        "model.fit(X, Y, batch_size = 16, epochs = 20, validation_split = 0.3)"
      ],
      "execution_count": null,
      "outputs": [
        {
          "output_type": "stream",
          "text": [
            "Epoch 1/20\n",
            "81/81 [==============================] - 61s 750ms/step - loss: 2.0039 - accuracy: 0.9023 - val_loss: 0.3126 - val_accuracy: 0.9152\n",
            "Epoch 2/20\n",
            "81/81 [==============================] - 57s 698ms/step - loss: 0.1075 - accuracy: 0.9651 - val_loss: 0.1252 - val_accuracy: 0.9621\n",
            "Epoch 3/20\n",
            "81/81 [==============================] - 56s 697ms/step - loss: 0.0599 - accuracy: 0.9806 - val_loss: 0.1016 - val_accuracy: 0.9693\n",
            "Epoch 4/20\n",
            "81/81 [==============================] - 56s 696ms/step - loss: 0.0384 - accuracy: 0.9876 - val_loss: 0.1186 - val_accuracy: 0.9639\n",
            "Epoch 5/20\n",
            "81/81 [==============================] - 56s 697ms/step - loss: 0.0140 - accuracy: 0.9953 - val_loss: 0.1009 - val_accuracy: 0.9639\n",
            "Epoch 6/20\n",
            "81/81 [==============================] - 56s 697ms/step - loss: 0.0197 - accuracy: 0.9953 - val_loss: 0.1009 - val_accuracy: 0.9711\n",
            "Epoch 7/20\n",
            "81/81 [==============================] - 56s 697ms/step - loss: 0.2435 - accuracy: 0.9744 - val_loss: 0.4511 - val_accuracy: 0.9729\n",
            "Epoch 8/20\n",
            "81/81 [==============================] - 56s 686ms/step - loss: 4.5123 - accuracy: 0.9419 - val_loss: 0.5956 - val_accuracy: 0.9404\n",
            "Epoch 9/20\n",
            "81/81 [==============================] - 55s 682ms/step - loss: 0.1296 - accuracy: 0.9752 - val_loss: 0.2419 - val_accuracy: 0.9549\n",
            "Epoch 10/20\n",
            "81/81 [==============================] - 56s 687ms/step - loss: 0.0560 - accuracy: 0.9891 - val_loss: 0.2152 - val_accuracy: 0.9603\n",
            "Epoch 11/20\n",
            "81/81 [==============================] - 56s 685ms/step - loss: 0.0337 - accuracy: 0.9915 - val_loss: 0.2176 - val_accuracy: 0.9657\n",
            "Epoch 12/20\n",
            "81/81 [==============================] - 56s 686ms/step - loss: 0.0856 - accuracy: 0.9822 - val_loss: 0.3647 - val_accuracy: 0.9585\n",
            "Epoch 13/20\n",
            "81/81 [==============================] - 55s 684ms/step - loss: 0.0526 - accuracy: 0.9868 - val_loss: 0.2556 - val_accuracy: 0.9693\n",
            "Epoch 14/20\n",
            "81/81 [==============================] - 55s 685ms/step - loss: 0.0283 - accuracy: 0.9953 - val_loss: 0.2608 - val_accuracy: 0.9675\n",
            "Epoch 15/20\n",
            "81/81 [==============================] - 55s 683ms/step - loss: 0.0142 - accuracy: 0.9969 - val_loss: 0.3273 - val_accuracy: 0.9603\n",
            "Epoch 16/20\n",
            "81/81 [==============================] - 56s 685ms/step - loss: 0.0179 - accuracy: 0.9938 - val_loss: 0.2008 - val_accuracy: 0.9693\n",
            "Epoch 17/20\n",
            "81/81 [==============================] - 55s 684ms/step - loss: 0.0226 - accuracy: 0.9938 - val_loss: 0.2208 - val_accuracy: 0.9711\n",
            "Epoch 18/20\n",
            "81/81 [==============================] - 56s 686ms/step - loss: 0.0105 - accuracy: 0.9977 - val_loss: 0.2050 - val_accuracy: 0.9657\n",
            "Epoch 19/20\n",
            "81/81 [==============================] - 55s 685ms/step - loss: 0.0124 - accuracy: 0.9977 - val_loss: 0.2784 - val_accuracy: 0.9567\n",
            "Epoch 20/20\n",
            "81/81 [==============================] - 55s 683ms/step - loss: 0.0176 - accuracy: 0.9922 - val_loss: 0.2275 - val_accuracy: 0.9603\n"
          ],
          "name": "stdout"
        },
        {
          "output_type": "execute_result",
          "data": {
            "text/plain": [
              "<tensorflow.python.keras.callbacks.History at 0x7f00180c4e48>"
            ]
          },
          "metadata": {
            "tags": []
          },
          "execution_count": 7
        }
      ]
    },
    {
      "cell_type": "code",
      "metadata": {
        "id": "Il3Pw_VBgGyB",
        "colab": {
          "base_uri": "https://localhost:8080/",
          "height": 110
        },
        "outputId": "ce9dd6fe-10d1-4ccf-ef22-132be234849e"
      },
      "source": [
        "#Save model\n",
        "model.save('covid-19_cnn.model')"
      ],
      "execution_count": null,
      "outputs": [
        {
          "output_type": "stream",
          "text": [
            "WARNING:tensorflow:From /usr/local/lib/python3.6/dist-packages/tensorflow/python/ops/resource_variable_ops.py:1817: calling BaseResourceVariable.__init__ (from tensorflow.python.ops.resource_variable_ops) with constraint is deprecated and will be removed in a future version.\n",
            "Instructions for updating:\n",
            "If using Keras pass *_constraint arguments to layers.\n",
            "INFO:tensorflow:Assets written to: covid-19_cnn.model/assets\n"
          ],
          "name": "stdout"
        }
      ]
    },
    {
      "cell_type": "code",
      "metadata": {
        "id": "ptew9Wn9xyRu"
      },
      "source": [
        "#Import library for model prediction\n",
        "import os\n",
        "import cv2"
      ],
      "execution_count": null,
      "outputs": []
    },
    {
      "cell_type": "code",
      "metadata": {
        "id": "baFBm5k8yuuZ"
      },
      "source": [
        "#Model prediction\n",
        "results = ['normal', 'covid-19']\n",
        "size = 400 #Same as training model\n",
        "\n",
        "#Load trained model\n",
        "model_pred = tf.keras.models.load_model('covid-19_cnn.model')"
      ],
      "execution_count": null,
      "outputs": []
    },
    {
      "cell_type": "code",
      "metadata": {
        "id": "raQTfJs7xVlJ",
        "colab": {
          "base_uri": "https://localhost:8080/",
          "height": 513
        },
        "outputId": "1c35c17d-0011-4c51-98d5-882cd352b050"
      },
      "source": [
        "for i in os.listdir(os.getcwd()):\n",
        "  if i.endswith('.jpg'):\n",
        "    img = cv2.imread(i)\n",
        "    img = cv2.resize(img, (size, size))\n",
        "    img_gray = cv2.cvtColor(img, cv2.COLOR_BGR2GRAY)\n",
        "    img_array = img_gray.reshape(-1, size, size, 1)\n",
        "    res = model_pred(img_array)\n",
        "    if i[:-7] == results[int(res[0][0])]:\n",
        "      print('True')\n",
        "    else:\n",
        "      print('False')\n",
        "    print(f'Actual X-Ray film is {i[:-7]}')\n",
        "    print(f'Model result is {results[int(res[0][0])]}')\n",
        "    cv2.putText(img, str(results[int(res[0][0])]), (size - 200, size - 200), cv2.FONT_HERSHEY_SIMPLEX, 1.5, (255, 0, 0), 2)\n",
        "    cv2.imwrite(f'result_{i}', img)"
      ],
      "execution_count": null,
      "outputs": [
        {
          "output_type": "stream",
          "text": [
            "True\n",
            "Actual X-Ray film is normal\n",
            "Model result is normal\n",
            "True\n",
            "Actual X-Ray film is normal\n",
            "Model result is normal\n",
            "False\n",
            "Actual X-Ray film is normal\n",
            "Model result is covid-19\n",
            "True\n",
            "Actual X-Ray film is normal\n",
            "Model result is normal\n",
            "True\n",
            "Actual X-Ray film is normal\n",
            "Model result is normal\n",
            "True\n",
            "Actual X-Ray film is covid-19\n",
            "Model result is covid-19\n",
            "True\n",
            "Actual X-Ray film is covid-19\n",
            "Model result is covid-19\n",
            "True\n",
            "Actual X-Ray film is covid-19\n",
            "Model result is covid-19\n",
            "False\n",
            "Actual X-Ray film is result_normal\n",
            "Model result is normal\n"
          ],
          "name": "stdout"
        }
      ]
    }
  ]
}