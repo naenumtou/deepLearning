{
  "nbformat": 4,
  "nbformat_minor": 0,
  "metadata": {
    "colab": {
      "name": "childrenQuotation.ipynb",
      "provenance": [],
      "collapsed_sections": [],
      "mount_file_id": "1hA3N0LAPRYoOL9xHnRO0qfZ-WYwnVhYq",
      "authorship_tag": "ABX9TyNxSy4jK7TUhaKy29fdPmN5",
      "include_colab_link": true
    },
    "kernelspec": {
      "name": "python3",
      "display_name": "Python 3"
    },
    "language_info": {
      "name": "python"
    },
    "accelerator": "GPU"
  },
  "cells": [
    {
      "cell_type": "markdown",
      "metadata": {
        "id": "view-in-github",
        "colab_type": "text"
      },
      "source": [
        "<a href=\"https://colab.research.google.com/github/naenumtou/learnTensorFlow/blob/main/childrenQuotation.ipynb\" target=\"_parent\"><img src=\"https://colab.research.google.com/assets/colab-badge.svg\" alt=\"Open In Colab\"/></a>"
      ]
    },
    {
      "cell_type": "code",
      "execution_count": null,
      "metadata": {
        "id": "aR_XNTSEc8RK"
      },
      "outputs": [],
      "source": [
        "# Set auto reload\n",
        "%reload_ext autoreload\n",
        "%autoreload 2"
      ]
    },
    {
      "cell_type": "code",
      "source": [
        "# Change working directory to store trained model\n",
        "%cd /content/drive/My Drive/Colab Notebooks/childrenQuotation"
      ],
      "metadata": {
        "colab": {
          "base_uri": "https://localhost:8080/"
        },
        "id": "odNlulEz0wZX",
        "outputId": "13fad210-b8d2-4ed5-d0f7-a77e0adb1846"
      },
      "execution_count": null,
      "outputs": [
        {
          "output_type": "stream",
          "name": "stdout",
          "text": [
            "/content/drive/My Drive/Colab Notebooks/childrenQuotation\n"
          ]
        }
      ]
    },
    {
      "cell_type": "code",
      "source": [
        "# Install PyThaiNLP\n",
        "!pip install --upgrade pythainlp"
      ],
      "metadata": {
        "colab": {
          "base_uri": "https://localhost:8080/"
        },
        "id": "xgaDkzy2hxfF",
        "outputId": "53e06bbf-41ba-4f7f-9c54-9a4027e545a0"
      },
      "execution_count": null,
      "outputs": [
        {
          "output_type": "stream",
          "name": "stdout",
          "text": [
            "Collecting pythainlp\n",
            "  Downloading pythainlp-3.0.5-py3-none-any.whl (11.5 MB)\n",
            "\u001b[K     |████████████████████████████████| 11.5 MB 5.4 MB/s \n",
            "\u001b[?25hCollecting tinydb>=3.0\n",
            "  Downloading tinydb-4.7.0-py3-none-any.whl (24 kB)\n",
            "Requirement already satisfied: requests>=2.22.0 in /usr/local/lib/python3.7/dist-packages (from pythainlp) (2.23.0)\n",
            "Requirement already satisfied: idna<3,>=2.5 in /usr/local/lib/python3.7/dist-packages (from requests>=2.22.0->pythainlp) (2.10)\n",
            "Requirement already satisfied: urllib3!=1.25.0,!=1.25.1,<1.26,>=1.21.1 in /usr/local/lib/python3.7/dist-packages (from requests>=2.22.0->pythainlp) (1.24.3)\n",
            "Requirement already satisfied: chardet<4,>=3.0.2 in /usr/local/lib/python3.7/dist-packages (from requests>=2.22.0->pythainlp) (3.0.4)\n",
            "Requirement already satisfied: certifi>=2017.4.17 in /usr/local/lib/python3.7/dist-packages (from requests>=2.22.0->pythainlp) (2021.10.8)\n",
            "Requirement already satisfied: typing-extensions<5.0.0,>=3.10.0 in /usr/local/lib/python3.7/dist-packages (from tinydb>=3.0->pythainlp) (3.10.0.2)\n",
            "Installing collected packages: tinydb, pythainlp\n",
            "Successfully installed pythainlp-3.0.5 tinydb-4.7.0\n"
          ]
        }
      ]
    },
    {
      "cell_type": "code",
      "source": [
        "# Import libraries\n",
        "import pandas as pd\n",
        "import numpy as np\n",
        "import matplotlib.pyplot as plt\n",
        "\n",
        "from pythainlp import word_tokenize\n",
        "\n",
        "# Neural network libraies\n",
        "import tensorflow as tf\n",
        "from tensorflow.keras.preprocessing.text import Tokenizer\n",
        "from tensorflow.keras.preprocessing.sequence import pad_sequences\n",
        "from tensorflow.keras.utils import to_categorical\n",
        "from tensorflow.keras.optimizers import Adam\n",
        "from tensorflow.keras.models import Sequential\n",
        "from tensorflow.keras.layers import LSTM, Embedding, Dense, Dropout\n",
        "\n",
        "# Checking GPU available\n",
        "if tf.test.gpu_device_name() == '/device:GPU:0':\n",
        "  print('GPU is available')\n",
        "else:\n",
        "  print('GPU is not available')\n",
        "\n",
        "print(f'Tensorflow version: {tf.__version__}')\n",
        "\n",
        "# Config \n",
        "%config InlineBackend.figure_format = 'retina' #Retina display\n",
        "pd.set_option('max_colwidth', 999) #Increase columns width\n",
        "plt.style.use('seaborn-deep') #Plot style"
      ],
      "metadata": {
        "colab": {
          "base_uri": "https://localhost:8080/"
        },
        "id": "c2-kYOvee1ra",
        "outputId": "7f3b8e39-234c-485e-af12-df472551e8b4"
      },
      "execution_count": null,
      "outputs": [
        {
          "output_type": "stream",
          "name": "stdout",
          "text": [
            "GPU is available\n",
            "Tensorflow version: 2.8.0\n"
          ]
        }
      ]
    },
    {
      "cell_type": "code",
      "source": [
        "# Import data\n",
        "df = pd.read_csv(\n",
        "    'https://raw.githubusercontent.com/naenumtou/learnTensorFlow/main/datasets/childrenDay.csv'\n",
        ")\n",
        "\n",
        "# Show table\n",
        "df.head(5)"
      ],
      "metadata": {
        "colab": {
          "base_uri": "https://localhost:8080/",
          "height": 206
        },
        "id": "ojniabaKhgF2",
        "outputId": "f1fb0bfe-5351-4a06-a47c-49b0360d4aeb"
      },
      "execution_count": null,
      "outputs": [
        {
          "output_type": "execute_result",
          "data": {
            "text/html": [
              "\n",
              "  <div id=\"df-9c304fc7-bf2f-45fb-b94c-7a41f515f207\">\n",
              "    <div class=\"colab-df-container\">\n",
              "      <div>\n",
              "<style scoped>\n",
              "    .dataframe tbody tr th:only-of-type {\n",
              "        vertical-align: middle;\n",
              "    }\n",
              "\n",
              "    .dataframe tbody tr th {\n",
              "        vertical-align: top;\n",
              "    }\n",
              "\n",
              "    .dataframe thead th {\n",
              "        text-align: right;\n",
              "    }\n",
              "</style>\n",
              "<table border=\"1\" class=\"dataframe\">\n",
              "  <thead>\n",
              "    <tr style=\"text-align: right;\">\n",
              "      <th></th>\n",
              "      <th>year</th>\n",
              "      <th>text</th>\n",
              "    </tr>\n",
              "  </thead>\n",
              "  <tbody>\n",
              "    <tr>\n",
              "      <th>0</th>\n",
              "      <td>2499</td>\n",
              "      <td>จงบำเพ็ญตนให้เป็นประโยชน์ต่อผู้อื่นและส่วนรวม</td>\n",
              "    </tr>\n",
              "    <tr>\n",
              "      <th>1</th>\n",
              "      <td>2502</td>\n",
              "      <td>ขอให้เด็กสมัยปฏิวัติของข้าพเจ้า จงเป็นเด็กที่รักความก้าวหน้า</td>\n",
              "    </tr>\n",
              "    <tr>\n",
              "      <th>2</th>\n",
              "      <td>2503</td>\n",
              "      <td>ขอให้เด็กสมัยปฏิวัติของข้าพเจ้า จงเป็นเด็กที่รักความสะอาด</td>\n",
              "    </tr>\n",
              "    <tr>\n",
              "      <th>3</th>\n",
              "      <td>2504</td>\n",
              "      <td>ขอให้เด็กสมัยปฏิวัติของข้าพเจ้า จงเป็นเด็กที่อยู่ในระเบียบวินัย</td>\n",
              "    </tr>\n",
              "    <tr>\n",
              "      <th>4</th>\n",
              "      <td>2505</td>\n",
              "      <td>ขอให้เด็กสมัยปฏิวัติของข้าพเจ้า จงเป็นเด็กที่ประหยัด</td>\n",
              "    </tr>\n",
              "  </tbody>\n",
              "</table>\n",
              "</div>\n",
              "      <button class=\"colab-df-convert\" onclick=\"convertToInteractive('df-9c304fc7-bf2f-45fb-b94c-7a41f515f207')\"\n",
              "              title=\"Convert this dataframe to an interactive table.\"\n",
              "              style=\"display:none;\">\n",
              "        \n",
              "  <svg xmlns=\"http://www.w3.org/2000/svg\" height=\"24px\"viewBox=\"0 0 24 24\"\n",
              "       width=\"24px\">\n",
              "    <path d=\"M0 0h24v24H0V0z\" fill=\"none\"/>\n",
              "    <path d=\"M18.56 5.44l.94 2.06.94-2.06 2.06-.94-2.06-.94-.94-2.06-.94 2.06-2.06.94zm-11 1L8.5 8.5l.94-2.06 2.06-.94-2.06-.94L8.5 2.5l-.94 2.06-2.06.94zm10 10l.94 2.06.94-2.06 2.06-.94-2.06-.94-.94-2.06-.94 2.06-2.06.94z\"/><path d=\"M17.41 7.96l-1.37-1.37c-.4-.4-.92-.59-1.43-.59-.52 0-1.04.2-1.43.59L10.3 9.45l-7.72 7.72c-.78.78-.78 2.05 0 2.83L4 21.41c.39.39.9.59 1.41.59.51 0 1.02-.2 1.41-.59l7.78-7.78 2.81-2.81c.8-.78.8-2.07 0-2.86zM5.41 20L4 18.59l7.72-7.72 1.47 1.35L5.41 20z\"/>\n",
              "  </svg>\n",
              "      </button>\n",
              "      \n",
              "  <style>\n",
              "    .colab-df-container {\n",
              "      display:flex;\n",
              "      flex-wrap:wrap;\n",
              "      gap: 12px;\n",
              "    }\n",
              "\n",
              "    .colab-df-convert {\n",
              "      background-color: #E8F0FE;\n",
              "      border: none;\n",
              "      border-radius: 50%;\n",
              "      cursor: pointer;\n",
              "      display: none;\n",
              "      fill: #1967D2;\n",
              "      height: 32px;\n",
              "      padding: 0 0 0 0;\n",
              "      width: 32px;\n",
              "    }\n",
              "\n",
              "    .colab-df-convert:hover {\n",
              "      background-color: #E2EBFA;\n",
              "      box-shadow: 0px 1px 2px rgba(60, 64, 67, 0.3), 0px 1px 3px 1px rgba(60, 64, 67, 0.15);\n",
              "      fill: #174EA6;\n",
              "    }\n",
              "\n",
              "    [theme=dark] .colab-df-convert {\n",
              "      background-color: #3B4455;\n",
              "      fill: #D2E3FC;\n",
              "    }\n",
              "\n",
              "    [theme=dark] .colab-df-convert:hover {\n",
              "      background-color: #434B5C;\n",
              "      box-shadow: 0px 1px 3px 1px rgba(0, 0, 0, 0.15);\n",
              "      filter: drop-shadow(0px 1px 2px rgba(0, 0, 0, 0.3));\n",
              "      fill: #FFFFFF;\n",
              "    }\n",
              "  </style>\n",
              "\n",
              "      <script>\n",
              "        const buttonEl =\n",
              "          document.querySelector('#df-9c304fc7-bf2f-45fb-b94c-7a41f515f207 button.colab-df-convert');\n",
              "        buttonEl.style.display =\n",
              "          google.colab.kernel.accessAllowed ? 'block' : 'none';\n",
              "\n",
              "        async function convertToInteractive(key) {\n",
              "          const element = document.querySelector('#df-9c304fc7-bf2f-45fb-b94c-7a41f515f207');\n",
              "          const dataTable =\n",
              "            await google.colab.kernel.invokeFunction('convertToInteractive',\n",
              "                                                     [key], {});\n",
              "          if (!dataTable) return;\n",
              "\n",
              "          const docLinkHtml = 'Like what you see? Visit the ' +\n",
              "            '<a target=\"_blank\" href=https://colab.research.google.com/notebooks/data_table.ipynb>data table notebook</a>'\n",
              "            + ' to learn more about interactive tables.';\n",
              "          element.innerHTML = '';\n",
              "          dataTable['output_type'] = 'display_data';\n",
              "          await google.colab.output.renderOutput(dataTable, element);\n",
              "          const docLink = document.createElement('div');\n",
              "          docLink.innerHTML = docLinkHtml;\n",
              "          element.appendChild(docLink);\n",
              "        }\n",
              "      </script>\n",
              "    </div>\n",
              "  </div>\n",
              "  "
            ],
            "text/plain": [
              "   year                                                             text\n",
              "0  2499                    จงบำเพ็ญตนให้เป็นประโยชน์ต่อผู้อื่นและส่วนรวม\n",
              "1  2502     ขอให้เด็กสมัยปฏิวัติของข้าพเจ้า จงเป็นเด็กที่รักความก้าวหน้า\n",
              "2  2503        ขอให้เด็กสมัยปฏิวัติของข้าพเจ้า จงเป็นเด็กที่รักความสะอาด\n",
              "3  2504  ขอให้เด็กสมัยปฏิวัติของข้าพเจ้า จงเป็นเด็กที่อยู่ในระเบียบวินัย\n",
              "4  2505             ขอให้เด็กสมัยปฏิวัติของข้าพเจ้า จงเป็นเด็กที่ประหยัด"
            ]
          },
          "metadata": {},
          "execution_count": 21
        }
      ]
    },
    {
      "cell_type": "code",
      "source": [
        "# Tokenize text\n",
        "df['textToken'] = df['text'].apply(\n",
        "    lambda text: word_tokenize(\n",
        "        text,\n",
        "        engine = 'newmm',\n",
        "        keep_whitespace = False\n",
        "    )\n",
        ")\n",
        "\n",
        "# Show table\n",
        "df.head(5)"
      ],
      "metadata": {
        "colab": {
          "base_uri": "https://localhost:8080/",
          "height": 206
        },
        "id": "ImNfB_KWjO4o",
        "outputId": "b00f7108-0461-4f89-b908-9c26cf001049"
      },
      "execution_count": null,
      "outputs": [
        {
          "output_type": "execute_result",
          "data": {
            "text/html": [
              "\n",
              "  <div id=\"df-5b1491e8-822e-4a0e-96bd-5e97681902af\">\n",
              "    <div class=\"colab-df-container\">\n",
              "      <div>\n",
              "<style scoped>\n",
              "    .dataframe tbody tr th:only-of-type {\n",
              "        vertical-align: middle;\n",
              "    }\n",
              "\n",
              "    .dataframe tbody tr th {\n",
              "        vertical-align: top;\n",
              "    }\n",
              "\n",
              "    .dataframe thead th {\n",
              "        text-align: right;\n",
              "    }\n",
              "</style>\n",
              "<table border=\"1\" class=\"dataframe\">\n",
              "  <thead>\n",
              "    <tr style=\"text-align: right;\">\n",
              "      <th></th>\n",
              "      <th>year</th>\n",
              "      <th>text</th>\n",
              "      <th>textToken</th>\n",
              "    </tr>\n",
              "  </thead>\n",
              "  <tbody>\n",
              "    <tr>\n",
              "      <th>0</th>\n",
              "      <td>2499</td>\n",
              "      <td>จงบำเพ็ญตนให้เป็นประโยชน์ต่อผู้อื่นและส่วนรวม</td>\n",
              "      <td>[จง, บำเพ็ญตน, ให้, เป็นประโยชน์, ต่อ, ผู้อื่น, และ, ส่วนรวม]</td>\n",
              "    </tr>\n",
              "    <tr>\n",
              "      <th>1</th>\n",
              "      <td>2502</td>\n",
              "      <td>ขอให้เด็กสมัยปฏิวัติของข้าพเจ้า จงเป็นเด็กที่รักความก้าวหน้า</td>\n",
              "      <td>[ขอให้, เด็ก, สมัย, ปฏิวัติ, ของ, ข้าพเจ้า, จง, เป็น, เด็ก, ที่รัก, ความก้าวหน้า]</td>\n",
              "    </tr>\n",
              "    <tr>\n",
              "      <th>2</th>\n",
              "      <td>2503</td>\n",
              "      <td>ขอให้เด็กสมัยปฏิวัติของข้าพเจ้า จงเป็นเด็กที่รักความสะอาด</td>\n",
              "      <td>[ขอให้, เด็ก, สมัย, ปฏิวัติ, ของ, ข้าพเจ้า, จง, เป็น, เด็ก, ที่รัก, ความสะอาด]</td>\n",
              "    </tr>\n",
              "    <tr>\n",
              "      <th>3</th>\n",
              "      <td>2504</td>\n",
              "      <td>ขอให้เด็กสมัยปฏิวัติของข้าพเจ้า จงเป็นเด็กที่อยู่ในระเบียบวินัย</td>\n",
              "      <td>[ขอให้, เด็ก, สมัย, ปฏิวัติ, ของ, ข้าพเจ้า, จง, เป็น, เด็ก, ที่อยู่, ใน, ระเบียบวินัย]</td>\n",
              "    </tr>\n",
              "    <tr>\n",
              "      <th>4</th>\n",
              "      <td>2505</td>\n",
              "      <td>ขอให้เด็กสมัยปฏิวัติของข้าพเจ้า จงเป็นเด็กที่ประหยัด</td>\n",
              "      <td>[ขอให้, เด็ก, สมัย, ปฏิวัติ, ของ, ข้าพเจ้า, จง, เป็น, เด็ก, ที่, ประหยัด]</td>\n",
              "    </tr>\n",
              "  </tbody>\n",
              "</table>\n",
              "</div>\n",
              "      <button class=\"colab-df-convert\" onclick=\"convertToInteractive('df-5b1491e8-822e-4a0e-96bd-5e97681902af')\"\n",
              "              title=\"Convert this dataframe to an interactive table.\"\n",
              "              style=\"display:none;\">\n",
              "        \n",
              "  <svg xmlns=\"http://www.w3.org/2000/svg\" height=\"24px\"viewBox=\"0 0 24 24\"\n",
              "       width=\"24px\">\n",
              "    <path d=\"M0 0h24v24H0V0z\" fill=\"none\"/>\n",
              "    <path d=\"M18.56 5.44l.94 2.06.94-2.06 2.06-.94-2.06-.94-.94-2.06-.94 2.06-2.06.94zm-11 1L8.5 8.5l.94-2.06 2.06-.94-2.06-.94L8.5 2.5l-.94 2.06-2.06.94zm10 10l.94 2.06.94-2.06 2.06-.94-2.06-.94-.94-2.06-.94 2.06-2.06.94z\"/><path d=\"M17.41 7.96l-1.37-1.37c-.4-.4-.92-.59-1.43-.59-.52 0-1.04.2-1.43.59L10.3 9.45l-7.72 7.72c-.78.78-.78 2.05 0 2.83L4 21.41c.39.39.9.59 1.41.59.51 0 1.02-.2 1.41-.59l7.78-7.78 2.81-2.81c.8-.78.8-2.07 0-2.86zM5.41 20L4 18.59l7.72-7.72 1.47 1.35L5.41 20z\"/>\n",
              "  </svg>\n",
              "      </button>\n",
              "      \n",
              "  <style>\n",
              "    .colab-df-container {\n",
              "      display:flex;\n",
              "      flex-wrap:wrap;\n",
              "      gap: 12px;\n",
              "    }\n",
              "\n",
              "    .colab-df-convert {\n",
              "      background-color: #E8F0FE;\n",
              "      border: none;\n",
              "      border-radius: 50%;\n",
              "      cursor: pointer;\n",
              "      display: none;\n",
              "      fill: #1967D2;\n",
              "      height: 32px;\n",
              "      padding: 0 0 0 0;\n",
              "      width: 32px;\n",
              "    }\n",
              "\n",
              "    .colab-df-convert:hover {\n",
              "      background-color: #E2EBFA;\n",
              "      box-shadow: 0px 1px 2px rgba(60, 64, 67, 0.3), 0px 1px 3px 1px rgba(60, 64, 67, 0.15);\n",
              "      fill: #174EA6;\n",
              "    }\n",
              "\n",
              "    [theme=dark] .colab-df-convert {\n",
              "      background-color: #3B4455;\n",
              "      fill: #D2E3FC;\n",
              "    }\n",
              "\n",
              "    [theme=dark] .colab-df-convert:hover {\n",
              "      background-color: #434B5C;\n",
              "      box-shadow: 0px 1px 3px 1px rgba(0, 0, 0, 0.15);\n",
              "      filter: drop-shadow(0px 1px 2px rgba(0, 0, 0, 0.3));\n",
              "      fill: #FFFFFF;\n",
              "    }\n",
              "  </style>\n",
              "\n",
              "      <script>\n",
              "        const buttonEl =\n",
              "          document.querySelector('#df-5b1491e8-822e-4a0e-96bd-5e97681902af button.colab-df-convert');\n",
              "        buttonEl.style.display =\n",
              "          google.colab.kernel.accessAllowed ? 'block' : 'none';\n",
              "\n",
              "        async function convertToInteractive(key) {\n",
              "          const element = document.querySelector('#df-5b1491e8-822e-4a0e-96bd-5e97681902af');\n",
              "          const dataTable =\n",
              "            await google.colab.kernel.invokeFunction('convertToInteractive',\n",
              "                                                     [key], {});\n",
              "          if (!dataTable) return;\n",
              "\n",
              "          const docLinkHtml = 'Like what you see? Visit the ' +\n",
              "            '<a target=\"_blank\" href=https://colab.research.google.com/notebooks/data_table.ipynb>data table notebook</a>'\n",
              "            + ' to learn more about interactive tables.';\n",
              "          element.innerHTML = '';\n",
              "          dataTable['output_type'] = 'display_data';\n",
              "          await google.colab.output.renderOutput(dataTable, element);\n",
              "          const docLink = document.createElement('div');\n",
              "          docLink.innerHTML = docLinkHtml;\n",
              "          element.appendChild(docLink);\n",
              "        }\n",
              "      </script>\n",
              "    </div>\n",
              "  </div>\n",
              "  "
            ],
            "text/plain": [
              "   year  ...                                                                               textToken\n",
              "0  2499  ...                           [จง, บำเพ็ญตน, ให้, เป็นประโยชน์, ต่อ, ผู้อื่น, และ, ส่วนรวม]\n",
              "1  2502  ...       [ขอให้, เด็ก, สมัย, ปฏิวัติ, ของ, ข้าพเจ้า, จง, เป็น, เด็ก, ที่รัก, ความก้าวหน้า]\n",
              "2  2503  ...          [ขอให้, เด็ก, สมัย, ปฏิวัติ, ของ, ข้าพเจ้า, จง, เป็น, เด็ก, ที่รัก, ความสะอาด]\n",
              "3  2504  ...  [ขอให้, เด็ก, สมัย, ปฏิวัติ, ของ, ข้าพเจ้า, จง, เป็น, เด็ก, ที่อยู่, ใน, ระเบียบวินัย]\n",
              "4  2505  ...               [ขอให้, เด็ก, สมัย, ปฏิวัติ, ของ, ข้าพเจ้า, จง, เป็น, เด็ก, ที่, ประหยัด]\n",
              "\n",
              "[5 rows x 3 columns]"
            ]
          },
          "metadata": {},
          "execution_count": 22
        }
      ]
    },
    {
      "cell_type": "code",
      "source": [
        "# List to string\n",
        "df['textToken'] = df['textToken'].apply(\n",
        "    lambda text: ' '.join(text)\n",
        ")\n",
        "\n",
        "# Show table\n",
        "df.head(5)"
      ],
      "metadata": {
        "colab": {
          "base_uri": "https://localhost:8080/",
          "height": 206
        },
        "id": "KIq7vHJvlAVN",
        "outputId": "f3a17c63-9a72-4d01-ad70-b2095f9ffe1e"
      },
      "execution_count": null,
      "outputs": [
        {
          "output_type": "execute_result",
          "data": {
            "text/html": [
              "\n",
              "  <div id=\"df-18ca9f44-9bec-483f-8080-6084ff09bca1\">\n",
              "    <div class=\"colab-df-container\">\n",
              "      <div>\n",
              "<style scoped>\n",
              "    .dataframe tbody tr th:only-of-type {\n",
              "        vertical-align: middle;\n",
              "    }\n",
              "\n",
              "    .dataframe tbody tr th {\n",
              "        vertical-align: top;\n",
              "    }\n",
              "\n",
              "    .dataframe thead th {\n",
              "        text-align: right;\n",
              "    }\n",
              "</style>\n",
              "<table border=\"1\" class=\"dataframe\">\n",
              "  <thead>\n",
              "    <tr style=\"text-align: right;\">\n",
              "      <th></th>\n",
              "      <th>year</th>\n",
              "      <th>text</th>\n",
              "      <th>textToken</th>\n",
              "    </tr>\n",
              "  </thead>\n",
              "  <tbody>\n",
              "    <tr>\n",
              "      <th>0</th>\n",
              "      <td>2499</td>\n",
              "      <td>จงบำเพ็ญตนให้เป็นประโยชน์ต่อผู้อื่นและส่วนรวม</td>\n",
              "      <td>จง บำเพ็ญตน ให้ เป็นประโยชน์ ต่อ ผู้อื่น และ ส่วนรวม</td>\n",
              "    </tr>\n",
              "    <tr>\n",
              "      <th>1</th>\n",
              "      <td>2502</td>\n",
              "      <td>ขอให้เด็กสมัยปฏิวัติของข้าพเจ้า จงเป็นเด็กที่รักความก้าวหน้า</td>\n",
              "      <td>ขอให้ เด็ก สมัย ปฏิวัติ ของ ข้าพเจ้า จง เป็น เด็ก ที่รัก ความก้าวหน้า</td>\n",
              "    </tr>\n",
              "    <tr>\n",
              "      <th>2</th>\n",
              "      <td>2503</td>\n",
              "      <td>ขอให้เด็กสมัยปฏิวัติของข้าพเจ้า จงเป็นเด็กที่รักความสะอาด</td>\n",
              "      <td>ขอให้ เด็ก สมัย ปฏิวัติ ของ ข้าพเจ้า จง เป็น เด็ก ที่รัก ความสะอาด</td>\n",
              "    </tr>\n",
              "    <tr>\n",
              "      <th>3</th>\n",
              "      <td>2504</td>\n",
              "      <td>ขอให้เด็กสมัยปฏิวัติของข้าพเจ้า จงเป็นเด็กที่อยู่ในระเบียบวินัย</td>\n",
              "      <td>ขอให้ เด็ก สมัย ปฏิวัติ ของ ข้าพเจ้า จง เป็น เด็ก ที่อยู่ ใน ระเบียบวินัย</td>\n",
              "    </tr>\n",
              "    <tr>\n",
              "      <th>4</th>\n",
              "      <td>2505</td>\n",
              "      <td>ขอให้เด็กสมัยปฏิวัติของข้าพเจ้า จงเป็นเด็กที่ประหยัด</td>\n",
              "      <td>ขอให้ เด็ก สมัย ปฏิวัติ ของ ข้าพเจ้า จง เป็น เด็ก ที่ ประหยัด</td>\n",
              "    </tr>\n",
              "  </tbody>\n",
              "</table>\n",
              "</div>\n",
              "      <button class=\"colab-df-convert\" onclick=\"convertToInteractive('df-18ca9f44-9bec-483f-8080-6084ff09bca1')\"\n",
              "              title=\"Convert this dataframe to an interactive table.\"\n",
              "              style=\"display:none;\">\n",
              "        \n",
              "  <svg xmlns=\"http://www.w3.org/2000/svg\" height=\"24px\"viewBox=\"0 0 24 24\"\n",
              "       width=\"24px\">\n",
              "    <path d=\"M0 0h24v24H0V0z\" fill=\"none\"/>\n",
              "    <path d=\"M18.56 5.44l.94 2.06.94-2.06 2.06-.94-2.06-.94-.94-2.06-.94 2.06-2.06.94zm-11 1L8.5 8.5l.94-2.06 2.06-.94-2.06-.94L8.5 2.5l-.94 2.06-2.06.94zm10 10l.94 2.06.94-2.06 2.06-.94-2.06-.94-.94-2.06-.94 2.06-2.06.94z\"/><path d=\"M17.41 7.96l-1.37-1.37c-.4-.4-.92-.59-1.43-.59-.52 0-1.04.2-1.43.59L10.3 9.45l-7.72 7.72c-.78.78-.78 2.05 0 2.83L4 21.41c.39.39.9.59 1.41.59.51 0 1.02-.2 1.41-.59l7.78-7.78 2.81-2.81c.8-.78.8-2.07 0-2.86zM5.41 20L4 18.59l7.72-7.72 1.47 1.35L5.41 20z\"/>\n",
              "  </svg>\n",
              "      </button>\n",
              "      \n",
              "  <style>\n",
              "    .colab-df-container {\n",
              "      display:flex;\n",
              "      flex-wrap:wrap;\n",
              "      gap: 12px;\n",
              "    }\n",
              "\n",
              "    .colab-df-convert {\n",
              "      background-color: #E8F0FE;\n",
              "      border: none;\n",
              "      border-radius: 50%;\n",
              "      cursor: pointer;\n",
              "      display: none;\n",
              "      fill: #1967D2;\n",
              "      height: 32px;\n",
              "      padding: 0 0 0 0;\n",
              "      width: 32px;\n",
              "    }\n",
              "\n",
              "    .colab-df-convert:hover {\n",
              "      background-color: #E2EBFA;\n",
              "      box-shadow: 0px 1px 2px rgba(60, 64, 67, 0.3), 0px 1px 3px 1px rgba(60, 64, 67, 0.15);\n",
              "      fill: #174EA6;\n",
              "    }\n",
              "\n",
              "    [theme=dark] .colab-df-convert {\n",
              "      background-color: #3B4455;\n",
              "      fill: #D2E3FC;\n",
              "    }\n",
              "\n",
              "    [theme=dark] .colab-df-convert:hover {\n",
              "      background-color: #434B5C;\n",
              "      box-shadow: 0px 1px 3px 1px rgba(0, 0, 0, 0.15);\n",
              "      filter: drop-shadow(0px 1px 2px rgba(0, 0, 0, 0.3));\n",
              "      fill: #FFFFFF;\n",
              "    }\n",
              "  </style>\n",
              "\n",
              "      <script>\n",
              "        const buttonEl =\n",
              "          document.querySelector('#df-18ca9f44-9bec-483f-8080-6084ff09bca1 button.colab-df-convert');\n",
              "        buttonEl.style.display =\n",
              "          google.colab.kernel.accessAllowed ? 'block' : 'none';\n",
              "\n",
              "        async function convertToInteractive(key) {\n",
              "          const element = document.querySelector('#df-18ca9f44-9bec-483f-8080-6084ff09bca1');\n",
              "          const dataTable =\n",
              "            await google.colab.kernel.invokeFunction('convertToInteractive',\n",
              "                                                     [key], {});\n",
              "          if (!dataTable) return;\n",
              "\n",
              "          const docLinkHtml = 'Like what you see? Visit the ' +\n",
              "            '<a target=\"_blank\" href=https://colab.research.google.com/notebooks/data_table.ipynb>data table notebook</a>'\n",
              "            + ' to learn more about interactive tables.';\n",
              "          element.innerHTML = '';\n",
              "          dataTable['output_type'] = 'display_data';\n",
              "          await google.colab.output.renderOutput(dataTable, element);\n",
              "          const docLink = document.createElement('div');\n",
              "          docLink.innerHTML = docLinkHtml;\n",
              "          element.appendChild(docLink);\n",
              "        }\n",
              "      </script>\n",
              "    </div>\n",
              "  </div>\n",
              "  "
            ],
            "text/plain": [
              "   year  ...                                                                  textToken\n",
              "0  2499  ...                       จง บำเพ็ญตน ให้ เป็นประโยชน์ ต่อ ผู้อื่น และ ส่วนรวม\n",
              "1  2502  ...      ขอให้ เด็ก สมัย ปฏิวัติ ของ ข้าพเจ้า จง เป็น เด็ก ที่รัก ความก้าวหน้า\n",
              "2  2503  ...         ขอให้ เด็ก สมัย ปฏิวัติ ของ ข้าพเจ้า จง เป็น เด็ก ที่รัก ความสะอาด\n",
              "3  2504  ...  ขอให้ เด็ก สมัย ปฏิวัติ ของ ข้าพเจ้า จง เป็น เด็ก ที่อยู่ ใน ระเบียบวินัย\n",
              "4  2505  ...              ขอให้ เด็ก สมัย ปฏิวัติ ของ ข้าพเจ้า จง เป็น เด็ก ที่ ประหยัด\n",
              "\n",
              "[5 rows x 3 columns]"
            ]
          },
          "metadata": {},
          "execution_count": 23
        }
      ]
    },
    {
      "cell_type": "markdown",
      "source": [
        "### Usage of Keras Tokenizer\n",
        "The Tokenizer class of Keras is used for vectorizing a text corpus. For this either, each text input is converted into integer sequence or a vector that has a coefficient for each token in the form of binary values.\n",
        "\n",
        "```python\n",
        "tokenizer = Tokenizer(lower = False) #Define tokenizer\n",
        "\n",
        "# Example text\n",
        "example = [\n",
        "  'Machine learning model',\n",
        "  'Deep learning model',\n",
        "  'Machine Learning',\n",
        "  'Deep learning'\n",
        "]\n",
        "\n",
        "# Fit to text\n",
        "tokenizer.fit_on_texts(example)\n",
        "```\n",
        "Count corpus\n",
        "```python\n",
        "print(f'Totol corpus: {tokenizer.document_count}')\n",
        "```\n",
        "Result\n",
        "```python\n",
        "Totol corpus: 5\n",
        "```\n",
        "Count unique words - it shows the number of times words occur\n",
        "```python\n",
        "print(f'Words count: {tokenizer.word_counts}')\n",
        "```\n",
        "Result\n",
        "```python\n",
        "Words count: OrderedDict([('Machine', 2), ('learning', 3), ('model', 2), ('Deep', 2), ('Learning', 1)])\n",
        "```\n",
        "It can be seen that lower and upper case are different between `learning` and `Learning` when setting `lower = False`.\n",
        "\n",
        "The `word_index` assigns a unique index to each word present in the text. This unique integer helps the model during training purposes.\n",
        "```python\n",
        "print(f'Words index: {tokenizer.word_index}')\n",
        "```\n",
        "Result\n",
        "```python\n",
        "Words index: {'learning': 1, 'Machine': 2, 'model': 3, 'Deep': 4, 'Learning': 5}\n",
        "```"
      ],
      "metadata": {
        "id": "VSDircmDpIWk"
      }
    },
    {
      "cell_type": "code",
      "source": [
        "# Tokenization\n",
        "tokenizer = Tokenizer() #Thai don't need upper and lower cases\n",
        "\n",
        "# Fit to corpus\n",
        "tokenizer.fit_on_texts(df['textToken'])\n",
        "totalWords = len(tokenizer.word_index) + 1 #word_index start at 1\n",
        "print(f'Total unique word: {totalWords}')"
      ],
      "metadata": {
        "colab": {
          "base_uri": "https://localhost:8080/"
        },
        "id": "YkfJlswJs7iE",
        "outputId": "1bb71a5c-0bc9-42b2-ac7d-134aaac0f00b"
      },
      "execution_count": null,
      "outputs": [
        {
          "output_type": "stream",
          "name": "stdout",
          "text": [
            "Total unique word: 189\n"
          ]
        }
      ]
    },
    {
      "cell_type": "markdown",
      "source": [
        "### texts_to_sequences\n",
        "The method helps in converting tokens of text corpus into a sequence of integers. Using the same example:\n",
        "```python\n",
        "tokenizer = Tokenizer(lower = False) #Define tokenizer\n",
        "\n",
        "# Example text\n",
        "example = [\n",
        "  'Machine learning model',\n",
        "  'Deep learning model',\n",
        "  'Machine Learning',\n",
        "  'Deep learning'\n",
        "]\n",
        "\n",
        "# Fit to text\n",
        "tokenizer.fit_on_texts(example)\n",
        "sequences = tokenizer.texts_to_sequences(example) #Create token sequential\n",
        "print(f'Token sequences generated: {sequences}')\n",
        "```\n",
        "Result\n",
        "```python\n",
        "Token sequences generated: [[2, 1, 3], [4, 1, 3], [2, 5], [4, 1]]\n",
        "```\n",
        "Compared to words index\n",
        "```python\n",
        "Words index: {'learning': 1, 'Machine': 2, 'model': 3, 'Deep': 4, 'Learning': 5}\n",
        "```\n",
        "The texts sequential are generated from words index representation.\n",
        "\n"
      ],
      "metadata": {
        "id": "kf4sR5LMu24K"
      }
    },
    {
      "cell_type": "code",
      "source": [
        "# Convert to sequence of each token\n",
        "sequencesTokens = []\n",
        "\n",
        "for token in df['textToken']:\n",
        "  listToken = tokenizer.texts_to_sequences([token])[0]\n",
        "  for i in range(1, len(listToken)):\n",
        "    sequenceToken = listToken[:i + 1] #[:0] cannot be defined as first position\n",
        "    sequencesTokens.append(sequenceToken)\n",
        "\n",
        "# Show\n",
        "sequencesTokens[:7]"
      ],
      "metadata": {
        "colab": {
          "base_uri": "https://localhost:8080/"
        },
        "id": "w9ijzj1ztpEO",
        "outputId": "947ba7b6-04f7-4ff8-8b69-bf6b197eea57"
      },
      "execution_count": null,
      "outputs": [
        {
          "output_type": "execute_result",
          "data": {
            "text/plain": [
              "[[14, 80],\n",
              " [14, 80, 21],\n",
              " [14, 80, 21, 81],\n",
              " [14, 80, 21, 81, 56],\n",
              " [14, 80, 21, 81, 56, 82],\n",
              " [14, 80, 21, 81, 56, 82, 39],\n",
              " [14, 80, 21, 81, 56, 82, 39, 83]]"
            ]
          },
          "metadata": {},
          "execution_count": 25
        }
      ]
    },
    {
      "cell_type": "code",
      "source": [
        "# Show sequences tokens as text\n",
        "tokenizer.sequences_to_texts(sequencesTokens[:7])"
      ],
      "metadata": {
        "colab": {
          "base_uri": "https://localhost:8080/"
        },
        "id": "OiuISADd1B1j",
        "outputId": "980daa62-c8f6-4fd0-c804-6fc16a28ce08"
      },
      "execution_count": null,
      "outputs": [
        {
          "output_type": "execute_result",
          "data": {
            "text/plain": [
              "['จง บำเพ็ญตน',\n",
              " 'จง บำเพ็ญตน ให้',\n",
              " 'จง บำเพ็ญตน ให้ เป็นประโยชน์',\n",
              " 'จง บำเพ็ญตน ให้ เป็นประโยชน์ ต่อ',\n",
              " 'จง บำเพ็ญตน ให้ เป็นประโยชน์ ต่อ ผู้อื่น',\n",
              " 'จง บำเพ็ญตน ให้ เป็นประโยชน์ ต่อ ผู้อื่น และ',\n",
              " 'จง บำเพ็ญตน ให้ เป็นประโยชน์ ต่อ ผู้อื่น และ ส่วนรวม']"
            ]
          },
          "metadata": {},
          "execution_count": 26
        }
      ]
    },
    {
      "cell_type": "code",
      "source": [
        "# Find maximum length of sequences tokens\n",
        "maxLength = max([len(x) for x in sequencesTokens])\n",
        "\n",
        "# Zero padding --> Fill 0 prior sequences tokens\n",
        "sequencesTokens = pad_sequences(\n",
        "    sequencesTokens,\n",
        "    maxlen = maxLength,\n",
        "    padding = 'pre'\n",
        ")\n",
        "\n",
        "# Show zero padding\n",
        "sequencesTokens[:7]"
      ],
      "metadata": {
        "colab": {
          "base_uri": "https://localhost:8080/"
        },
        "id": "_1pox32-33mz",
        "outputId": "f670d1dd-dc6a-4e1c-9bb7-1dc2e19025ee"
      },
      "execution_count": null,
      "outputs": [
        {
          "output_type": "execute_result",
          "data": {
            "text/plain": [
              "array([[ 0,  0,  0,  0,  0,  0,  0,  0,  0,  0,  0,  0,  0,  0, 14, 80],\n",
              "       [ 0,  0,  0,  0,  0,  0,  0,  0,  0,  0,  0,  0,  0, 14, 80, 21],\n",
              "       [ 0,  0,  0,  0,  0,  0,  0,  0,  0,  0,  0,  0, 14, 80, 21, 81],\n",
              "       [ 0,  0,  0,  0,  0,  0,  0,  0,  0,  0,  0, 14, 80, 21, 81, 56],\n",
              "       [ 0,  0,  0,  0,  0,  0,  0,  0,  0,  0, 14, 80, 21, 81, 56, 82],\n",
              "       [ 0,  0,  0,  0,  0,  0,  0,  0,  0, 14, 80, 21, 81, 56, 82, 39],\n",
              "       [ 0,  0,  0,  0,  0,  0,  0,  0, 14, 80, 21, 81, 56, 82, 39, 83]],\n",
              "      dtype=int32)"
            ]
          },
          "metadata": {},
          "execution_count": 27
        }
      ]
    },
    {
      "cell_type": "code",
      "source": [
        "# Create features and labels\n",
        "# Features\n",
        "features = sequencesTokens[:, :-1] #Remove the last word of sentences\n",
        "features[:7]"
      ],
      "metadata": {
        "colab": {
          "base_uri": "https://localhost:8080/"
        },
        "id": "BKjLfqYB6YcA",
        "outputId": "9d23beed-239f-4b97-d0fb-fa72f72c853b"
      },
      "execution_count": null,
      "outputs": [
        {
          "output_type": "execute_result",
          "data": {
            "text/plain": [
              "array([[ 0,  0,  0,  0,  0,  0,  0,  0,  0,  0,  0,  0,  0,  0, 14],\n",
              "       [ 0,  0,  0,  0,  0,  0,  0,  0,  0,  0,  0,  0,  0, 14, 80],\n",
              "       [ 0,  0,  0,  0,  0,  0,  0,  0,  0,  0,  0,  0, 14, 80, 21],\n",
              "       [ 0,  0,  0,  0,  0,  0,  0,  0,  0,  0,  0, 14, 80, 21, 81],\n",
              "       [ 0,  0,  0,  0,  0,  0,  0,  0,  0,  0, 14, 80, 21, 81, 56],\n",
              "       [ 0,  0,  0,  0,  0,  0,  0,  0,  0, 14, 80, 21, 81, 56, 82],\n",
              "       [ 0,  0,  0,  0,  0,  0,  0,  0, 14, 80, 21, 81, 56, 82, 39]],\n",
              "      dtype=int32)"
            ]
          },
          "metadata": {},
          "execution_count": 28
        }
      ]
    },
    {
      "cell_type": "code",
      "source": [
        "# Labels\n",
        "labels = sequencesTokens[:, -1] #Use the last word of sentences as labels\n",
        "labels[:7]"
      ],
      "metadata": {
        "colab": {
          "base_uri": "https://localhost:8080/"
        },
        "id": "qUCO1IHW4QTb",
        "outputId": "4204d682-b3a7-49cf-e5ba-5c81ffac2adc"
      },
      "execution_count": null,
      "outputs": [
        {
          "output_type": "execute_result",
          "data": {
            "text/plain": [
              "array([80, 21, 81, 56, 82, 39, 83], dtype=int32)"
            ]
          },
          "metadata": {},
          "execution_count": 29
        }
      ]
    },
    {
      "cell_type": "code",
      "source": [
        "# Transform labels to sparse matrix using One-Hot Encoding\n",
        "labels = to_categorical(\n",
        "     labels,\n",
        "     num_classes = totalWords\n",
        " )\n",
        "labels[0] #At index 80"
      ],
      "metadata": {
        "colab": {
          "base_uri": "https://localhost:8080/"
        },
        "id": "TCbAaA4V7G-T",
        "outputId": "8a1f8345-5d67-4862-b856-f46dd7e73607"
      },
      "execution_count": null,
      "outputs": [
        {
          "output_type": "execute_result",
          "data": {
            "text/plain": [
              "array([0., 0., 0., 0., 0., 0., 0., 0., 0., 0., 0., 0., 0., 0., 0., 0., 0.,\n",
              "       0., 0., 0., 0., 0., 0., 0., 0., 0., 0., 0., 0., 0., 0., 0., 0., 0.,\n",
              "       0., 0., 0., 0., 0., 0., 0., 0., 0., 0., 0., 0., 0., 0., 0., 0., 0.,\n",
              "       0., 0., 0., 0., 0., 0., 0., 0., 0., 0., 0., 0., 0., 0., 0., 0., 0.,\n",
              "       0., 0., 0., 0., 0., 0., 0., 0., 0., 0., 0., 0., 1., 0., 0., 0., 0.,\n",
              "       0., 0., 0., 0., 0., 0., 0., 0., 0., 0., 0., 0., 0., 0., 0., 0., 0.,\n",
              "       0., 0., 0., 0., 0., 0., 0., 0., 0., 0., 0., 0., 0., 0., 0., 0., 0.,\n",
              "       0., 0., 0., 0., 0., 0., 0., 0., 0., 0., 0., 0., 0., 0., 0., 0., 0.,\n",
              "       0., 0., 0., 0., 0., 0., 0., 0., 0., 0., 0., 0., 0., 0., 0., 0., 0.,\n",
              "       0., 0., 0., 0., 0., 0., 0., 0., 0., 0., 0., 0., 0., 0., 0., 0., 0.,\n",
              "       0., 0., 0., 0., 0., 0., 0., 0., 0., 0., 0., 0., 0., 0., 0., 0., 0.,\n",
              "       0., 0.], dtype=float32)"
            ]
          },
          "metadata": {},
          "execution_count": 30
        }
      ]
    },
    {
      "cell_type": "code",
      "source": [
        "# Show text\n",
        "print(\n",
        "    list(\n",
        "        tokenizer.word_index.keys()\n",
        "    )[\n",
        "      list(\n",
        "          tokenizer.word_index.values()\n",
        "      ).index(\n",
        "          np.where(labels[0] == 1)[0]\n",
        "      )\n",
        "    ]\n",
        ")  # Prints george"
      ],
      "metadata": {
        "colab": {
          "base_uri": "https://localhost:8080/"
        },
        "id": "8JZF1a-28T1q",
        "outputId": "9b81f04a-ac0d-4c4a-f634-d481854a0fa5"
      },
      "execution_count": null,
      "outputs": [
        {
          "output_type": "stream",
          "name": "stdout",
          "text": [
            "บำเพ็ญตน\n"
          ]
        }
      ]
    },
    {
      "cell_type": "code",
      "source": [
        "# Design the Long Short Term Memory (LSTM) Neural Networks\n",
        "model = Sequential()\n",
        "model.add(\n",
        "    Embedding(\n",
        "        totalWords, output_dim = 128, input_length = features.shape[1]\n",
        "    )\n",
        ")\n",
        "model.add(\n",
        "    LSTM(\n",
        "        256, return_sequences = True\n",
        "    )\n",
        ")\n",
        "model.add(Dropout(0.2))\n",
        "model.add(\n",
        "    LSTM(\n",
        "        256, return_sequences = True\n",
        "    )\n",
        ")\n",
        "model.add(Dropout(0.3))\n",
        "model.add(\n",
        "    LSTM(128)\n",
        ")\n",
        "model.add(Dropout(0.3))\n",
        "model.add(\n",
        "    Dense(\n",
        "        totalWords, activation = 'softmax'\n",
        "    )\n",
        ")\n",
        "\n",
        "# Model overview\n",
        "model.summary()"
      ],
      "metadata": {
        "colab": {
          "base_uri": "https://localhost:8080/"
        },
        "id": "dTBw6PJt9HD6",
        "outputId": "c6e7d2ec-d0cb-4136-a353-c68ae46f0025"
      },
      "execution_count": null,
      "outputs": [
        {
          "output_type": "stream",
          "name": "stdout",
          "text": [
            "Model: \"sequential_1\"\n",
            "_________________________________________________________________\n",
            " Layer (type)                Output Shape              Param #   \n",
            "=================================================================\n",
            " embedding_1 (Embedding)     (None, 15, 128)           24192     \n",
            "                                                                 \n",
            " lstm_3 (LSTM)               (None, 15, 256)           394240    \n",
            "                                                                 \n",
            " dropout_3 (Dropout)         (None, 15, 256)           0         \n",
            "                                                                 \n",
            " lstm_4 (LSTM)               (None, 15, 256)           525312    \n",
            "                                                                 \n",
            " dropout_4 (Dropout)         (None, 15, 256)           0         \n",
            "                                                                 \n",
            " lstm_5 (LSTM)               (None, 128)               197120    \n",
            "                                                                 \n",
            " dropout_5 (Dropout)         (None, 128)               0         \n",
            "                                                                 \n",
            " dense_1 (Dense)             (None, 189)               24381     \n",
            "                                                                 \n",
            "=================================================================\n",
            "Total params: 1,165,245\n",
            "Trainable params: 1,165,245\n",
            "Non-trainable params: 0\n",
            "_________________________________________________________________\n"
          ]
        }
      ]
    },
    {
      "cell_type": "code",
      "source": [
        "# Define model parameters\n",
        "EPOCHS = 2000\n",
        "RATE = 0.0001\n",
        "\n",
        "# Optimizer\n",
        "opt = Adam(learning_rate = RATE)\n",
        "\n",
        "# Compile model\n",
        "model.compile(\n",
        "    optimizer = opt,\n",
        "    loss = 'categorical_crossentropy',\n",
        "    metrics = ['accuracy']\n",
        ")"
      ],
      "metadata": {
        "id": "NDmQpBXm1GzG"
      },
      "execution_count": null,
      "outputs": []
    },
    {
      "cell_type": "code",
      "source": [
        "# Training model\n",
        "history = model.fit(\n",
        "    features,\n",
        "    labels,\n",
        "    epochs = EPOCHS,\n",
        "    verbose = 0\n",
        ")"
      ],
      "metadata": {
        "id": "7yUOS_b2_U9K"
      },
      "execution_count": null,
      "outputs": []
    },
    {
      "cell_type": "code",
      "source": [
        "# Plot\n",
        "plt.figure(figsize = (10, 6))\n",
        "plt.plot(\n",
        "    history.history['accuracy'],\n",
        "    c = 'royalblue',\n",
        "    label = 'Accuracy'\n",
        ")\n",
        "plt.plot(\n",
        "    history.history['loss'],\n",
        "    c = 'firebrick',\n",
        "    label = 'Loss'\n",
        ")\n",
        "plt.legend(frameon = True, facecolor = 'white')\n",
        "plt.title('Model training process')\n",
        "plt.xlabel('Epochs')\n",
        "plt.show()"
      ],
      "metadata": {
        "colab": {
          "base_uri": "https://localhost:8080/",
          "height": 403
        },
        "id": "GqImfdZH_uxc",
        "outputId": "c19a7fc9-ca8e-437f-d48f-cc702c7a0587"
      },
      "execution_count": null,
      "outputs": [
        {
          "output_type": "display_data",
          "data": {
            "image/png": "[encoded data removed]",
            "text/plain": [
              "<Figure size 720x432 with 1 Axes>"
            ]
          },
          "metadata": {
            "image/png": {
              "width": 595,
              "height": 386
            },
            "needs_background": "light"
          }
        }
      ]
    },
    {
      "cell_type": "code",
      "source": [
        "# Save model\n",
        "model.save('childrenQuotation.h5')"
      ],
      "metadata": {
        "id": "P38FsNw35jDl"
      },
      "execution_count": null,
      "outputs": []
    },
    {
      "cell_type": "code",
      "source": [
        "# Model prediction\n",
        "# Define prediction function\n",
        "def generateQuotation(text, numWords):\n",
        "  textOut = ' '.join(word_tokenize(text))\n",
        "  wordCount = 0\n",
        "  while wordCount < numWords:\n",
        "    textList = tokenizer.texts_to_sequences([textOut])[0]\n",
        "    textList = pad_sequences(\n",
        "        [textList], #Input as list\n",
        "        maxlen = maxLength - 1, #-1 to be the same as features\n",
        "        padding = 'pre'\n",
        "    )\n",
        "    predIndex = model.predict(textList, verbose = 0).argmax() #Predict next word\n",
        "    for word, index in tokenizer.word_index.items():\n",
        "      if index == predIndex:\n",
        "        wordNext = word\n",
        "        break\n",
        "    textOut += ' ' + wordNext\n",
        "    wordCount += 1\n",
        "  return textOut"
      ],
      "metadata": {
        "id": "3N6po-KvIFt3"
      },
      "execution_count": null,
      "outputs": []
    },
    {
      "cell_type": "code",
      "source": [
        "# Testing model\n",
        "texts = ['เด็กยุคใหม่', 'เด็กไทย', 'ชาติไทย', 'ชาติพัฒนา', 'เด็กในวันนี้']\n",
        "\n",
        "for text in texts:\n",
        "  print(generateQuotation(text, 6))"
      ],
      "metadata": {
        "colab": {
          "base_uri": "https://localhost:8080/"
        },
        "id": "SiQYmP9zJTVI",
        "outputId": "cbb0a55f-1db1-418a-f9ca-52cb913c5bba"
      },
      "execution_count": null,
      "outputs": [
        {
          "output_type": "stream",
          "name": "stdout",
          "text": [
            "เด็ก ยุคใหม่ จิต อาสา ร่วม พัฒนา ชาติ รุ่งเรือง\n",
            "เด็ก ไทย วิถี ใหม่ รวม ไทย สร้างชาติ ด้วย\n",
            "ชาติ ไทย ประหยัด เป็น คุณสมบัติ ของ เด็ก ไทย\n",
            "ชาติ พัฒนา ศาสน์ กษัตริย์ คุณสมบัติ ของ ของ เยาวชน\n",
            "เด็ก ใน วันนี้ จง หมั่น เรียน เพียร กระ ทำดี\n"
          ]
        }
      ]
    }
  ]
}