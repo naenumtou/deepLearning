{
 "cells": [
  {
   "cell_type": "code",
   "execution_count": 8,
   "metadata": {},
   "outputs": [],
   "source": [
    "# Import libraries\n",
    "import pandas as pd\n",
    "import numpy as np\n",
    "import os, cv2, random, pickle"
   ]
  },
  {
   "cell_type": "code",
   "execution_count": 9,
   "metadata": {},
   "outputs": [
    {
     "name": "stdout",
     "output_type": "stream",
     "text": [
      "Total number of files: 290\n"
     ]
    }
   ],
   "source": [
    "# Find COVID-19 Files\n",
    "covidFiles = pd.read_csv('data/covid_metadata.csv')\n",
    "covidFiles = covidFiles.query(\n",
    "    \"finding == 'COVID-19' | finding == 'COVID-19, ARDS'\"\n",
    ")['filename'].tolist()\n",
    "\n",
    "# Print total number of files\n",
    "print(f'Total number of files: {len(covidFiles)}')"
   ]
  },
  {
   "cell_type": "code",
   "execution_count": 10,
   "metadata": {},
   "outputs": [],
   "source": [
    "# Create dateset\n",
    "size = 128 #Image size\n",
    "data = [] #List of dataset\n",
    "\n",
    "# Covid files\n",
    "for file in os.listdir('data/covid'):\n",
    "    if file in covidFiles:\n",
    "        classType = 1\n",
    "        filePath = os.path.join('data/covid', file)\n",
    "        try:\n",
    "            image = cv2.imread(filePath)\n",
    "            image = cv2.resize(image, (size, size))\n",
    "            data.append([image, classType])\n",
    "        except Exception as e:\n",
    "            print(f'Issue image: {file}')\n",
    "            pass\n",
    "\n",
    "# Normal files\n",
    "for file in os.listdir('data/normal'):\n",
    "    classType = 0\n",
    "    filePath = os.path.join('data/normal', file)\n",
    "    try:\n",
    "        image = cv2.imread(filePath)\n",
    "        image = cv2.resize(image, (size, size))\n",
    "        data.append([image, classType])\n",
    "    except Exception as e:\n",
    "        print(f'Issue image: {file}')\n",
    "        pass"
   ]
  },
  {
   "cell_type": "code",
   "execution_count": 11,
   "metadata": {},
   "outputs": [
    {
     "name": "stdout",
     "output_type": "stream",
     "text": [
      "Image array shape: (1844, 128, 128, 3)\n"
     ]
    }
   ],
   "source": [
    "# Shuffle dataset\n",
    "random.shuffle(data)\n",
    "\n",
    "# Image and target split\n",
    "features = []\n",
    "targets = []\n",
    "\n",
    "for feature, target in data:\n",
    "    features.append(feature)\n",
    "    targets.append(target)\n",
    "\n",
    "# To numpy array\n",
    "features = np.array(features).reshape(-1, size, size, 3)\n",
    "targets = np.array(targets)\n",
    "\n",
    "# Image array shape\n",
    "print(f'Image array shape: {features.shape}')"
   ]
  },
  {
   "cell_type": "code",
   "execution_count": 12,
   "metadata": {},
   "outputs": [],
   "source": [
    "# Store dataset\n",
    "pickle.dump(features, open('featuresCOVIDXRay.pk', 'wb'))\n",
    "pickle.dump(targets, open('targetsCOVIDXRay.pk', 'wb'))"
   ]
  }
 ],
 "metadata": {
  "interpreter": {
   "hash": "312bd584587c3a8481d57181b3e86c311f28e12885d64c7e6e3f2252ed0bd0d8"
  },
  "kernelspec": {
   "display_name": "Python 3.9.10 64-bit ('covidxrayclassification': venv)",
   "language": "python",
   "name": "python3"
  },
  "language_info": {
   "codemirror_mode": {
    "name": "ipython",
    "version": 3
   },
   "file_extension": ".py",
   "mimetype": "text/x-python",
   "name": "python",
   "nbconvert_exporter": "python",
   "pygments_lexer": "ipython3",
   "version": "3.9.10"
  },
  "orig_nbformat": 4
 },
 "nbformat": 4,
 "nbformat_minor": 2
}
